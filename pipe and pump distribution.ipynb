{
 "cells": [
  {
   "cell_type": "code",
   "execution_count": 1,
   "id": "b94fe944",
   "metadata": {},
   "outputs": [],
   "source": [
    "import geopandas as gpd\n",
    "from osgeo import ogr\n",
    "import pandas as pd\n",
    "import tifffile as tiff #needed for the tif data for perry county\n",
    "import numpy as np\n",
    "import matplotlib.pyplot as plt\n",
    "from scipy.spatial import distance_matrix\n",
    "from math import sin, cos, sqrt, atan2, radians\n",
    "import sys\n",
    "from shapely.geometry import Polygon, box, Point, LineString, MultiLineString\n",
    "import pickle\n",
    "import gurobipy as gp\n",
    "from gurobipy import GRB\n",
    "import tifffile as tiff #needed for the tif data for perry county\n",
    "import xlwt\n",
    "from xlwt import Workbook\n",
    "from shapely.ops import snap, split, nearest_points\n",
    "#from shapely.geometry import MultiPoint, LineString\n",
    "#from dbfread import DBF\n",
    "import osmnx as ox\n",
    "import networkx as nx\n",
    "import math\n",
    "import gurobipy as gp\n",
    "from gurobipy import GRB\n",
    "import os"
   ]
  },
  {
   "cell_type": "code",
   "execution_count": 2,
   "id": "d6817075",
   "metadata": {},
   "outputs": [],
   "source": [
    "os.chdir(\"/Users/yuelanzhu/Downloads/Research/my code file\")"
   ]
  },
  {
   "cell_type": "code",
   "execution_count": 3,
   "id": "b05c53b3",
   "metadata": {},
   "outputs": [],
   "source": [
    "# calculate distance\n",
    "def haversinedist(lat1, lon1, lat2, lon2):\n",
    "    R = 6373.0\n",
    "    \n",
    "    lat1 = radians(lat1)\n",
    "    lon1 = radians(lon1)\n",
    "    lat2 = radians(lat2)\n",
    "    lon2 = radians(lon2)\n",
    "    \n",
    "    dlon = lon2 - lon1\n",
    "    dlat = lat2 - lat1\n",
    "    \n",
    "    a = sin(dlat / 2)**2 + cos(lat1) * cos(lat2) * sin(dlon / 2)**2\n",
    "    c = 2 * atan2(sqrt(a), sqrt(1 - a))\n",
    "    \n",
    "    distance = R * c\n",
    "    return distance * 1000 #unit in meters"
   ]
  },
  {
   "cell_type": "code",
   "execution_count": 4,
   "id": "9265642d",
   "metadata": {},
   "outputs": [],
   "source": [
    "# read data\n",
    "def readClusterFile(fileID):\n",
    "    file = np.genfromtxt(fileID, delimiter=\",\", skip_header = 1)\n",
    "    file = file[:,1:]\n",
    "    return file\n",
    "clusterfile = 'Centralized_elevcluster' + str(1) + '.csv'"
   ]
  },
  {
   "cell_type": "code",
   "execution_count": 5,
   "id": "70187382",
   "metadata": {},
   "outputs": [],
   "source": [
    "building_coords = readClusterFile(clusterfile)"
   ]
  },
  {
   "cell_type": "code",
   "execution_count": 6,
   "id": "843c8659",
   "metadata": {},
   "outputs": [],
   "source": [
    "#convert data to dataframe\n",
    "df = pd.DataFrame(building_coords,\n",
    "                  columns = ['longitude','latitude','elevation'])"
   ]
  },
  {
   "cell_type": "code",
   "execution_count": 7,
   "id": "c53d1b59",
   "metadata": {},
   "outputs": [
    {
     "data": {
      "text/plain": [
       "longitude    0.0\n",
       "latitude     0.0\n",
       "elevation    0.0\n",
       "dtype: float64"
      ]
     },
     "execution_count": 7,
     "metadata": {},
     "output_type": "execute_result"
    }
   ],
   "source": [
    "#check # of null\n",
    "df.isnull().sum(axis=0).sort_values(ascending=False)/float(len(building_coords))"
   ]
  },
  {
   "cell_type": "code",
   "execution_count": 8,
   "id": "93167925",
   "metadata": {},
   "outputs": [
    {
     "data": {
      "text/plain": [
       "array([46, 94, 60, ..., 92, 15, 64])"
      ]
     },
     "execution_count": 8,
     "metadata": {},
     "output_type": "execute_result"
    }
   ],
   "source": [
    "# cluster, n_clusters is from table 2 in paper draft, using ward-tree\n",
    "from sklearn.cluster import AgglomerativeClustering\n",
    "cluster = AgglomerativeClustering(n_clusters=100, affinity='euclidean', linkage='ward')\n",
    "cluster.fit_predict(building_coords[:,1:2])"
   ]
  },
  {
   "cell_type": "code",
   "execution_count": 9,
   "id": "df930a76",
   "metadata": {},
   "outputs": [],
   "source": [
    "# add cluster to dataframe\n",
    "df['cluster.labels_'] = cluster.labels_.tolist()"
   ]
  },
  {
   "cell_type": "code",
   "execution_count": 10,
   "id": "231adae3",
   "metadata": {},
   "outputs": [],
   "source": [
    "# select highest and lowest nodes in cluster\n",
    "tank = df.loc[df.groupby(['cluster.labels_'])['elevation'].idxmax()].reset_index(drop=True)\n",
    "trem = df.loc[df.groupby(['cluster.labels_'])['elevation'].idxmin()].reset_index(drop=True)"
   ]
  },
  {
   "cell_type": "code",
   "execution_count": 11,
   "id": "0d5a9596",
   "metadata": {},
   "outputs": [],
   "source": [
    "# creat MST\n",
    "\n",
    "graph = []\n",
    "mstree = []\n",
    "def createMSTnx(dataframe):\n",
    "    #only takes longitude and latitude from the cluster data, note we also have elevation and stuff there too\n",
    "    #coordinates = twoDcluster\n",
    "    for k in range(10):\n",
    "        cluster = dataframe[dataframe['cluster.labels_'] == k]\n",
    "        cluster = cluster[['longitude','latitude']]\n",
    "        latlon = cluster.to_numpy()\n",
    "        nrows, ncols = latlon.shape\n",
    "        #creates graph\n",
    "        graph.append(nx.Graph())\n",
    "        weights = []\n",
    "        #distance in km as weight between each point in the graph\n",
    "        for i in range(nrows):\n",
    "            graph[k].add_node(i,pos=(latlon[i,0],latlon[i,1]))\n",
    "            for j in range(i+1,nrows):\n",
    "                dist = haversinedist(latlon[i,1], latlon[i,0], latlon[j,1], latlon[j,0])\n",
    "                weights.append(dist)\n",
    "                graph[k].add_edge(i,j, weight = dist)\n",
    "        #creates MST\n",
    "        mstree.append(nx.minimum_spanning_tree(graph[k]))\n",
    "    return mstree, graph"
   ]
  },
  {
   "cell_type": "code",
   "execution_count": 12,
   "id": "2c613720",
   "metadata": {},
   "outputs": [
    {
     "data": {
      "text/plain": [
       "([<networkx.classes.graph.Graph at 0x7fc6a0f55c70>,\n",
       "  <networkx.classes.graph.Graph at 0x7fc6a0f55d00>,\n",
       "  <networkx.classes.graph.Graph at 0x7fc6a0f55100>,\n",
       "  <networkx.classes.graph.Graph at 0x7fc6a0f55b80>,\n",
       "  <networkx.classes.graph.Graph at 0x7fc6a0f55220>,\n",
       "  <networkx.classes.graph.Graph at 0x7fc6a0f55490>,\n",
       "  <networkx.classes.graph.Graph at 0x7fc6c5135430>,\n",
       "  <networkx.classes.graph.Graph at 0x7fc6c5135580>,\n",
       "  <networkx.classes.graph.Graph at 0x7fc6c5135700>,\n",
       "  <networkx.classes.graph.Graph at 0x7fc6c5135670>],\n",
       " [<networkx.classes.graph.Graph at 0x7fc6a0f3f820>,\n",
       "  <networkx.classes.graph.Graph at 0x7fc6a0f3ff40>,\n",
       "  <networkx.classes.graph.Graph at 0x7fc6b04d40d0>,\n",
       "  <networkx.classes.graph.Graph at 0x7fc6a0f55430>,\n",
       "  <networkx.classes.graph.Graph at 0x7fc6c511da30>,\n",
       "  <networkx.classes.graph.Graph at 0x7fc6a0f55e80>,\n",
       "  <networkx.classes.graph.Graph at 0x7fc6a0f55400>,\n",
       "  <networkx.classes.graph.Graph at 0x7fc6a0f55940>,\n",
       "  <networkx.classes.graph.Graph at 0x7fc6a0f55d30>,\n",
       "  <networkx.classes.graph.Graph at 0x7fc6c511db80>])"
      ]
     },
     "execution_count": 12,
     "metadata": {},
     "output_type": "execute_result"
    }
   ],
   "source": [
    "createMSTnx(df)"
   ]
  },
  {
   "cell_type": "code",
   "execution_count": 13,
   "id": "2b4d2a48",
   "metadata": {},
   "outputs": [
    {
     "data": {
      "image/png": "[encoded data removed]",
      "text/plain": [
       "<Figure size 432x288 with 1 Axes>"
      ]
     },
     "metadata": {},
     "output_type": "display_data"
    }
   ],
   "source": [
    "# draw a simulation of graph\n",
    "\n",
    "nx.draw(graph[9])"
   ]
  },
  {
   "cell_type": "code",
   "execution_count": 14,
   "id": "b9994c57",
   "metadata": {},
   "outputs": [
    {
     "name": "stdout",
     "output_type": "stream",
     "text": [
      "Set parameter Username\n",
      "Academic license - for non-commercial use only - expires 2022-09-18\n",
      "Set parameter TimeLimit to value 12000\n"
     ]
    }
   ],
   "source": [
    "m = gp.Model('pipe and pump distribution')\n",
    "m.Params.timeLimit = 12000"
   ]
  },
  {
   "cell_type": "code",
   "execution_count": 15,
   "id": "e45d8ae1",
   "metadata": {},
   "outputs": [],
   "source": [
    "# pipe parameters\n",
    "pipesize = [0.05, 0.06, 0.08, 0.1, 0.15, 0.2, 0.25, 0.3, 0.35, 0.4, 0.45, 0.5, 0.6]\n",
    "pipesize_str, pipecost = gp.multidict({'0.05': 8.7, '0.06': 9.5, '0.08': 11, \\\n",
    "                                                   '0.1': 12.6, '0.15': 43.5,'0.2': 141, '0.25': 151, '0.3': 161, '0.35':230, '0.4': 246, '0.45':262, \n",
    "                                                   '0.5':292, '0.6':315})"
   ]
  },
  {
   "cell_type": "code",
   "execution_count": 16,
   "id": "a1359765",
   "metadata": {},
   "outputs": [],
   "source": [
    "# pump parameters\n",
    "# power in kW, default value from Matlab document\n",
    "pumptype = [2, 5, 800]\n",
    "# efficiency corresponding to power\n",
    "pump_eff = [0.8, 0.9, 0.9]"
   ]
  },
  {
   "cell_type": "code",
   "execution_count": 17,
   "id": "279d3ba9",
   "metadata": {},
   "outputs": [],
   "source": [
    "# find label of tank node in cluster\n",
    "tank_lon = str(tank[tank['cluster.labels_'] == 9][['longitude']].iat[0,0])\n",
    "tank_lat = str(tank[tank['cluster.labels_'] == 9][['latitude']].iat[0,0])\n",
    "for i in mstree[9].nodes():\n",
    "    if str(mstree[9].nodes[i]['pos'][0]) == tank_lon and str(mstree[9].nodes[i]['pos'][1]) == tank_lat:\n",
    "        tank_node = i"
   ]
  },
  {
   "cell_type": "code",
   "execution_count": 18,
   "id": "69de41be",
   "metadata": {},
   "outputs": [
    {
     "data": {
      "text/plain": [
       "3"
      ]
     },
     "execution_count": 18,
     "metadata": {},
     "output_type": "execute_result"
    }
   ],
   "source": [
    "tank_node"
   ]
  },
  {
   "cell_type": "code",
   "execution_count": 19,
   "id": "e12264c8",
   "metadata": {},
   "outputs": [],
   "source": [
    "# set variables\n",
    "\n",
    "# binary variable indicating if at edge n pipe of type t is implemented\n",
    "arc_sizes = m.addVars(mstree[9].edges(), pipesize, vtype = GRB.BINARY, name = \"DIAMETER\")\n",
    "\n",
    "# continuous variable indicating flow through edge n.\n",
    "q = m.addVars(mstree[9].edges(),lb = 0, vtype = GRB.CONTINUOUS, name = \"FLOW\")\n",
    "\n",
    "# continuous variable indicating inflow and outflow for each node\n",
    "qin = m.addVars(mstree[9].nodes(),lb = 0, vtype = GRB.CONTINUOUS, name = \"INFLOW\")\n",
    "qout = m.addVars(mstree[9].nodes(),lb = 0, vtype = GRB.CONTINUOUS, name = \"OUTFLOW\")\n",
    "\n",
    "# binary variable indicating if at edge n the pump of type j is implemented.\n",
    "arc_pumps = m.addVars(mstree[9].edges(),pumptype, vtype = GRB.BINARY, name = \"PUMP\")\n",
    "\n",
    "#continuous variable representing the pressure injected by the pump at edge n.\n",
    "pr = m.addVars(mstree[9].edges(),lb = 0, vtype = GRB.CONTINUOUS, name = \"PRESSURE BY PUMP\")\n",
    "\n",
    "#continuous variable representing the head pressure at node i\n",
    "H = m.addVars(mstree[9].nodes(),lb = 0, vtype = GRB.CONTINUOUS, name = \"HEAD PRESSURE\")\n",
    "\n",
    "#pipe elevations at node i \n",
    "e = m.addVars(mstree[9].nodes(), vtype = GRB.CONTINUOUS, name = 'In Node Elevation')\n",
    "\n",
    "# area of section of pipe of diameter dt\n",
    "A = m.addVars(mstree[9].edges(),lb = 0, vtype = GRB.CONTINUOUS, name = \"pipe area\")\n",
    "\n",
    "# head pressure loss for edge n\n",
    "loss = m.addVars(mstree[9].edges(),lb = 0, vtype = GRB.CONTINUOUS, name = \"loss\")\n",
    "\n",
    "# just a calculated item used to avoid bug\n",
    "item = m.addVars(mstree[9].edges(),lb = 0, vtype = GRB.CONTINUOUS, name = \"item\")"
   ]
  },
  {
   "cell_type": "code",
   "execution_count": 20,
   "id": "ba688a93",
   "metadata": {},
   "outputs": [],
   "source": [
    "#node elevation excavation in meters\n",
    "#upper bound is arbritrary maximum depth assuming 1 foot or 0.3048 meters of cover beneath the surface is needed for the pipes\n",
    "#a lower bound variable is created but not used. In future models might need to implement that depending on the site (digging too deep for excavation is not feasible for many projects)\n",
    "cluster9 = df[df['cluster.labels_'] == 9]\n",
    "cluster9_elv = cluster9[['elevation']]\n",
    "elevation_ub = dict()\n",
    "elevation_lb = dict()\n",
    "for i in range(mstree[9].number_of_nodes()):\n",
    "    elevation_ub[i] = cluster9_elv.iloc[[i]] - 0.3048\n",
    "    elevation_lb[i] = cluster9_elv.iloc[[i]] - 30"
   ]
  },
  {
   "cell_type": "markdown",
   "id": "62fab4b7",
   "metadata": {},
   "source": [
    "innode = {}\n",
    "outnode = {}\n",
    "for i,j in mstree[9].edges():\n",
    "    if len(nx.shortest_path(mstree[9],source=tank_node, target=i)) > len(nx.shortest_path(mstree[9],source=tank_node, target=j)):\n",
    "        # if node j is nearer to tank\n",
    "        innode.setdefault(i, [])\n",
    "        innode[i].append(j)\n",
    "        outnode.setdefault(j, [])\n",
    "        outnode[j].append(i)\n",
    "    else:\n",
    "        # if node i is nearer to tank\n",
    "        innode.setdefault(j, [])\n",
    "        innode[j].append(i)\n",
    "        outnode.setdefault(i, [])\n",
    "        outnode[i].append(j)"
   ]
  },
  {
   "cell_type": "markdown",
   "id": "83ad7726",
   "metadata": {},
   "source": [
    "for i in qin:\n",
    "    innode.setdefault(i,[])\n",
    "    outnode.setdefault(i, [])"
   ]
  },
  {
   "cell_type": "markdown",
   "id": "fefbd7e5",
   "metadata": {},
   "source": [
    "dist1 = []\n",
    "dist2 = []\n",
    "for i,j in mstree[9].edges():\n",
    "    # split graph at tank node\n",
    "    if i < tank_node:\n",
    "        if len(nx.shortest_path(mstree[9],source=tank_node, target=i)) < len(nx.shortest_path(mstree[9],source=tank_node, target=j)):\n",
    "        # if node i is nearer to tank\n",
    "            dist = len(nx.shortest_path(mstree[9],source=tank_node, target=j))\n",
    "            dist1.append(dist)         \n",
    "        else: # if node j is nearer to tank\n",
    "            dist = len(nx.shortest_path(mstree[9],source=tank_node, target=i))\n",
    "            dist1.append(dist) \n",
    "                      \n",
    "    else:\n",
    "        if len(nx.shortest_path(mstree[9],source=tank_node, target=i)) < len(nx.shortest_path(mstree[9],source=tank_node, target=j)):\n",
    "            dist = len(nx.shortest_path(mstree[9],source=tank_node, target=j))\n",
    "            dist2.append(dist)\n",
    "        else:\n",
    "            dist = len(nx.shortest_path(mstree[9],source=tank_node, target=i))\n",
    "            dist2.append(dist)"
   ]
  },
  {
   "cell_type": "markdown",
   "id": "8f0de528",
   "metadata": {},
   "source": [
    "def d(d):\n",
    "    d = len(nx.shortest_path(mstree[9],source=tank_node, target=d))\n",
    "    return d"
   ]
  },
  {
   "cell_type": "code",
   "execution_count": 21,
   "id": "d86c5db0",
   "metadata": {},
   "outputs": [],
   "source": [
    "#create flow direction dict\n",
    "flow_dir = {}\n",
    "for i,j in mstree[9].edges():\n",
    "    if len(nx.shortest_path(mstree[9],source=tank_node, target=i)) < len(nx.shortest_path(mstree[9],source=tank_node, target=j)):\n",
    "        # if node i is nearer to tank\n",
    "        flow_dir[i,j]=(i,j)\n",
    "    if len(nx.shortest_path(mstree[9],source=tank_node, target=i)) > len(nx.shortest_path(mstree[9],source=tank_node, target=j)):\n",
    "        # if node j is nearer to tank\n",
    "        flow_dir[i,j]=(j,i) "
   ]
  },
  {
   "cell_type": "code",
   "execution_count": 22,
   "id": "6bc33fa6",
   "metadata": {},
   "outputs": [
    {
     "data": {
      "text/plain": [
       "{(0, 1): (1, 0),\n",
       " (1, 2): (1, 2),\n",
       " (1, 3): (3, 1),\n",
       " (3, 4): (3, 4),\n",
       " (4, 5): (4, 5)}"
      ]
     },
     "execution_count": 22,
     "metadata": {},
     "output_type": "execute_result"
    }
   ],
   "source": [
    "flow_dir"
   ]
  },
  {
   "cell_type": "code",
   "execution_count": 23,
   "id": "f5217041",
   "metadata": {},
   "outputs": [
    {
     "data": {
      "image/png": "[encoded data removed]",
      "text/plain": [
       "<Figure size 432x288 with 1 Axes>"
      ]
     },
     "metadata": {},
     "output_type": "display_data"
    }
   ],
   "source": [
    "# draw a simulation of MST\n",
    "nx.draw(mstree[9],with_labels = True)"
   ]
  },
  {
   "cell_type": "code",
   "execution_count": 24,
   "id": "e67f1ac7",
   "metadata": {},
   "outputs": [
    {
     "data": {
      "text/plain": [
       "<gurobi.Constr *Awaiting Model Update*>"
      ]
     },
     "execution_count": 24,
     "metadata": {},
     "output_type": "execute_result"
    }
   ],
   "source": [
    "# water demand\n",
    "for i,j in flow_dir:\n",
    "    #m.addConstr(q[i,j] >= 0.9464,\"water demand at terminal node\" + str([i,j]))\n",
    "    start = flow_dir[i,j][0]\n",
    "    end = flow_dir[i,j][1]\n",
    "    m.addConstr(qin[end] == qin[end] + q[i,j],\"qin\" + str([i,j]))\n",
    "    m.addConstr(qout[start] == qout[start] + q[i,j],\"qout\" + str([i,j]))\n",
    "\n",
    "for i in qin:\n",
    "    m.addConstr(qin[i] == qout[i] + 0.9464,\"water demand\" + str(i))\n",
    "    \n",
    "m.addConstr(qin[tank_node] == 0.9464 * mstree[9].number_of_nodes(), \"water balance at source node\")\n",
    "\n",
    "#m.addConstr(qout[0]==0)\n",
    "#m.addConstr(qout[2]==0)\n",
    "#m.addConstr(qout[5]==0)\n"
   ]
  },
  {
   "cell_type": "code",
   "execution_count": 25,
   "id": "93ab3825",
   "metadata": {},
   "outputs": [
    {
     "data": {
      "text/plain": [
       "{(0, 1): (1, 0),\n",
       " (1, 2): (1, 2),\n",
       " (1, 3): (3, 1),\n",
       " (3, 4): (3, 4),\n",
       " (4, 5): (4, 5)}"
      ]
     },
     "execution_count": 25,
     "metadata": {},
     "output_type": "execute_result"
    }
   ],
   "source": [
    "flow_dir"
   ]
  },
  {
   "cell_type": "code",
   "execution_count": 26,
   "id": "05754b0d",
   "metadata": {},
   "outputs": [],
   "source": [
    "#m.addConstrs((q.sum('*',i) == q.sum(i,'*') + 0.9464 for i in mstree[9].nodes()),\"water demand\")"
   ]
  },
  {
   "cell_type": "markdown",
   "id": "f6410957",
   "metadata": {},
   "source": [
    "m.addConstr(q[3,4]==q[4,5]+0.9464)\n",
    "m.addConstr(q[1,3]==q[0,1]+q[1,2]+0.9464)\n",
    "m.addConstr(q[0,1]>=0.9464)\n",
    "m.addConstr(q[1,2]>=0.9464)\n",
    "m.addConstr(q[4,5]>=0.9464)"
   ]
  },
  {
   "cell_type": "markdown",
   "id": "c1df09f7",
   "metadata": {},
   "source": [
    "for i,j in mstree[9].edges():\n",
    "    if i < tank_node:\n",
    "        if len(nx.shortest_path(mstree[9],source=tank_node, target=j))==max(dist1):\n",
    "            m.addConstr(q[i,j]>=0.9464, \"water demand at leave nodes\")\n",
    "        if len(nx.shortest_path(mstree[9],source=tank_node, target=i))==max(dist1):\n",
    "            m.addConstr(q[i,j]>=0.9464, \"water demand at leave nodes\")\n",
    "        else: \n",
    "            m.addConstr(sum(q[i,m] for m in innode[i] if d(i)>d(m))==\n",
    "                        sum(q[i,k] for k in outnode[i] if d(i)<d(k) and k>i) #q[1,0]\n",
    "                        +sum(q[k,i] for k in outnode[i] if d(i)>d(k)))\n",
    "                        \n",
    "                                \n",
    "    else:\n",
    "        if len(nx.shortest_path(mstree[9],source=tank_node, target=j))==max(dist2):\n",
    "            m.addConstr(q[i,j]>=0.9464, \"water demand at leave nodes\")\n",
    "        if len(nx.shortest_path(mstree[9],source=tank_node, target=i))==max(dist2):\n",
    "            m.addConstr(q[i,j]>=0.9464, \"water demand at leave nodes\")\n",
    "        "
   ]
  },
  {
   "cell_type": "markdown",
   "id": "3865f7a3",
   "metadata": {},
   "source": [
    "for i in qin:\n",
    "    n = []\n",
    "    n.append(\n",
    "        len(nx.shortest_path(mstree[9],source=tank_node, target=i)) > \n",
    "        len(nx.shortest_path(mstree[9],source=tank_node, target=j)))\n",
    "    m.addConstr(sum(q[i,j] for j in n\n",
    "    \n",
    "    m.addConstr(sum(q[i,j] for i,j in mstree[9].edges() and \n",
    "                    len(nx.shortest_path(mstree[9],source=tank_node, target=i)) > \n",
    "                    len(nx.shortest_path(mstree[9],source=tank_node, target=j)))\n",
    "                == sum(q[i,j] for i,j in mstree[9].edges() and \n",
    "                    len(nx.shortest_path(mstree[9],source=tank_node, target=i)) <\n",
    "                    len(nx.shortest_path(mstree[9],source=tank_node, target=j)))\n",
    "                + 0.9464, \"water demand\")"
   ]
  },
  {
   "cell_type": "code",
   "execution_count": 27,
   "id": "3b3f2d93",
   "metadata": {},
   "outputs": [],
   "source": [
    "# add constraints\n",
    "\n",
    "for i in qin:\n",
    "    #qin− qout = daily water demand for each node\n",
    "    #m.addConstr(qin[i]-qout[i] >= 0.9464, \"water demand\")# assume 250 gpd, covert it to 0.9464 m3/h\n",
    "    m.addConstr(H[i] >= 68.9476, \"Min head pressure\") #10 psi, covert it to kpa\n",
    "    m.addConstr(H[i] <= 551.581, \"Max head pressure\") #80 psi, covert it to kpa  \n",
    "    \n",
    "    # pipe elevation must be betwenn lb and ub\n",
    "    m.addConstr(e[i] >= float(str(elevation_lb[i])[20:]), \"PIPE ELV LB\")\n",
    "    m.addConstr(e[i] <= float(str(elevation_ub[i])[20:]), \"PIPE ELV UB\")"
   ]
  },
  {
   "cell_type": "markdown",
   "id": "319cb9c4",
   "metadata": {},
   "source": [
    "for i,j in mstree[9].edges():\n",
    "    \n",
    "    if len(nx.shortest_path(mstree[9],source=tank_node, target=i)) < len(nx.shortest_path(mstree[9],source=tank_node, target=j)):\n",
    "        # if node i is nearer to tank\n",
    "        # define q[i,j] based on qin and qout\n",
    "        linkqin = []\n",
    "        keys = [*range(0, len(qin), 1)]\n",
    "        values = [0]*len(qin)\n",
    "        for a, b in mstree[9].edges():\n",
    "            if a==i:\n",
    "                linkqin.append(qin[b]) \n",
    "                values[a]=sum(linkqin)\n",
    "        m.addConstr(qout[i] == values[i])\n",
    "        m.addConstr(q[i,j] == qout[i])\n",
    "        qoutsum = dict(zip(keys, values))"
   ]
  },
  {
   "cell_type": "code",
   "execution_count": 28,
   "id": "3a1d029c",
   "metadata": {},
   "outputs": [],
   "source": [
    "for i,j in mstree[9].edges():\n",
    "    \n",
    "    if len(nx.shortest_path(mstree[9],source=tank_node, target=i)) < len(nx.shortest_path(mstree[9],source=tank_node, target=j)):\n",
    "        # if node i is nearer to tank        \n",
    "        # Pipe slope must be greater than 1%, or a pump station is used\n",
    "        m.addConstr(\n",
    "            ((1-arc_pumps.sum(i, j, '*'))*0.01 <= (e[i] - e[j]) / mstree[9][i][j][\"weight\"]), \n",
    "            (\"slope max\" + '[' + str(i) + ',' + str(j)+ ']'))\n",
    "\n",
    "    if len(nx.shortest_path(mstree[9],source=tank_node, target=i)) > len(nx.shortest_path(mstree[9],source=tank_node, target=j)):\n",
    "        # if node j is nearer to tank       \n",
    "        # Pipe slope must be greater than 1%, or a pump station is used\n",
    "        m.addConstr(\n",
    "            ((1-arc_pumps.sum(i, j, '*'))*0.01 <= (e[j] - e[i]) / mstree[9][i][j][\"weight\"]), \n",
    "            (\"slope max\" + '[' + str(i) + ',' + str(j)+ ']'))\n",
    "    \n",
    "    #only one pipe per edge\n",
    "    m.addConstr((arc_sizes.sum(i, j, '*') == 1.0), \"single size chosen\")\n",
    "    #only one pump per edge\n",
    "    m.addConstr((arc_pumps.sum(i, j, '*') <= 1.0), \"single type chosen\")\n",
    "    \n",
    "    # Velocity must be between 0.6 and 3 m/s to 30\n",
    "    m.addConstr((\n",
    "    q[i,j] <= ((3.14/8)*gp.quicksum(arc_sizes[i,j,k]*k**2 for k in pipesize)) * 10), \"Velocity Max Constr\")\n",
    "    m.addConstr((\n",
    "    q[i,j] >= ((3.14/8)*gp.quicksum(arc_pumps[i,j,k]*k**2 for k in pumptype)) * 0.6), \"Velocity Min Constr\" + str([i,j]))  \n",
    "    \n",
    "    # injected pressure pr[i,j] must be less than the capacity of pump.\n",
    "    m.addConstr((\n",
    "        pr[i,j]*q[i,j]*(9.80665*1000) <= \n",
    "        gp.quicksum(arc_pumps[i,j,k]*k*pump_eff[pumptype.index(k)] for k in pumptype)), \n",
    "        \"pressure by pump less than the capacity\")\n",
    "    \n",
    "    # conservation of Head at edge n, use Hazen Williams equation\n",
    "    m.addConstr(A[i,j] == 3.14/4*gp.quicksum(arc_sizes[i,j,k]*k for k in pipesize), \"pipe area\")\n",
    "    f = 0.3\n",
    "    m.addConstr(item[i,j]*2*9.80665*A[i,j]==q[i,j]*q[i,j], \"item\")\n",
    "    m.addConstr(loss[i,j] == (gp.quicksum(arc_sizes[i,j,k]/k for k in pipesize))*f*mstree[9][i][j][\"weight\"]*item[i,j], \n",
    "                \"loss\")#(q[i,j])**2/(2*9.80665*A[i,j]))\n",
    "    m.addConstr((H[i]-H[j]==loss[i,j]-pr[i,j]),\"conservation of Head\")"
   ]
  },
  {
   "cell_type": "markdown",
   "id": "cbb41cf7",
   "metadata": {},
   "source": [
    "# add constraints\n",
    "\n",
    "for i,j in mstree[9].edges():\n",
    "    \n",
    "    if len(nx.shortest_path(mstree[9],source=tank_node, target=i)) > len(nx.shortest_path(mstree[9],source=tank_node, target=j)):\n",
    "        # if node j is nearer to tank\n",
    "        # define q[i,j] based on qin and qout\n",
    "        linkqin = []\n",
    "        for a, b in mstree[9].edges():\n",
    "            if b==j:\n",
    "                linkqin.append(qin[a])\n",
    "        m.addConstr(qout[j] == qoutsum[j]+sum(linkqin))\n",
    "        m.addConstr(q[i,j] == qout[j])"
   ]
  },
  {
   "cell_type": "code",
   "execution_count": 29,
   "id": "1ab8144b",
   "metadata": {},
   "outputs": [],
   "source": [
    "excavation = 25\n",
    "bedding_cost_sq_ft = 6\n",
    "capital_cost_pump_station = 0\n",
    "ps_flow_cost = 0\n",
    "ps_OM_cost = 2795\n",
    "hometreatment = 5500\n",
    "#water_spec_weight = 9.8\n",
    "fixed_treatment_cost = 10000\n",
    "#kwh_hour = 0.114\n",
    "collection_om = 209"
   ]
  },
  {
   "cell_type": "code",
   "execution_count": 30,
   "id": "865bc41b",
   "metadata": {},
   "outputs": [],
   "source": [
    "# set obective function\n",
    "\n",
    "# pipe cost\n",
    "obj1 = gp.quicksum(mstree[9][i][j][\"weight\"] * gp.quicksum(pipecost[str(k)] * arc_sizes[i, j, k] \n",
    "                                                           for k in pipesize) for i,j in mstree[9].edges())\n",
    "\n",
    "# Capital cost of pump stations\n",
    "obj2 = gp.quicksum(arc_pumps.sum(i, j, '*') * capital_cost_pump_station  for i,j in mstree[9].edges())\n",
    "\n",
    "#Operation and maintenance costs\n",
    "obj3 = gp.quicksum(arc_pumps.sum(i, j, '*')*ps_OM_cost for i, j in mstree[9].edges())\n",
    "\n",
    "# cost of exaction and bedding for all installed collection systems pipes\n",
    "obj4 = ((1 + gp.quicksum(arc_sizes[i,j,k]*k for k in pipesize)*0.01) * mstree[9][i][j][\"weight\"]*3.3#covert m to ft \n",
    "        * bedding_cost_sq_ft + excavation * \\\n",
    "        (1 + gp.quicksum(arc_sizes[i,j,k]*k for k in pipesize)*0.01) * mstree[9][i][j][\"weight\"] * 0.5\n",
    "        * ((elevation_ub[i] - e[i]) + (elevation_ub[j] - e[j]))\n",
    "        for i, j in mstree[9].edges())\n",
    "\n",
    "# cost of elevated base (in $/meter)=1\n",
    "obj5 = gp.quicksum(H[i] for i in mstree[9].nodes())\n",
    "\n",
    "obj = obj1 + obj2 + obj3 +obj5 #+ obj4 "
   ]
  },
  {
   "cell_type": "code",
   "execution_count": 31,
   "id": "7b43b340",
   "metadata": {},
   "outputs": [],
   "source": [
    "m.setObjective(obj, GRB.MINIMIZE)"
   ]
  },
  {
   "cell_type": "code",
   "execution_count": 32,
   "id": "2a4d7011",
   "metadata": {},
   "outputs": [],
   "source": [
    "#m.params.NonConvex = 2"
   ]
  },
  {
   "cell_type": "code",
   "execution_count": 33,
   "id": "7ad0f185",
   "metadata": {},
   "outputs": [
    {
     "name": "stdout",
     "output_type": "stream",
     "text": [
      "Gurobi Optimizer version 9.5.0 build v9.5.0rc5 (mac64[rosetta2])\n",
      "Thread count: 8 physical cores, 8 logical processors, using up to 8 threads\n",
      "Optimize a model with 76 rows, 129 columns and 332 nonzeros\n",
      "Model fingerprint: 0xb8604f3f\n",
      "Model has 15 quadratic constraints\n",
      "Variable types: 49 continuous, 80 integer (80 binary)\n",
      "Coefficient statistics:\n",
      "  Matrix range     [7e-04, 2e+05]\n",
      "  QMatrix range    [1e+00, 1e+04]\n",
      "  QLMatrix range   [1e+00, 7e+02]\n",
      "  Objective range  [1e+00, 4e+05]\n",
      "  Bounds range     [1e+00, 1e+00]\n",
      "  RHS range        [1e-02, 6e+02]\n",
      "Presolve removed 76 rows and 129 columns\n",
      "Presolve time: 0.00s\n",
      "Presolve: All rows and columns removed\n",
      "\n",
      "Explored 0 nodes (0 simplex iterations) in 0.01 seconds (0.00 work units)\n",
      "Thread count was 1 (of 8 available processors)\n",
      "\n",
      "Solution count 1: 15151.4 \n",
      "\n",
      "Optimal solution found (tolerance 1.00e-04)\n",
      "Best objective 1.515136928892e+04, best bound 1.515136928892e+04, gap 0.0000%\n"
     ]
    }
   ],
   "source": [
    "m.optimize()"
   ]
  },
  {
   "cell_type": "code",
   "execution_count": 34,
   "id": "010af5b5",
   "metadata": {
    "scrolled": true
   },
   "outputs": [
    {
     "name": "stdout",
     "output_type": "stream",
     "text": [
      "DIAMETER[0,1,0.05] 1\n",
      "DIAMETER[0,1,0.06] 0\n",
      "DIAMETER[0,1,0.08] 0\n",
      "DIAMETER[0,1,0.1] 0\n",
      "DIAMETER[0,1,0.15] 0\n",
      "DIAMETER[0,1,0.2] 0\n",
      "DIAMETER[0,1,0.25] 0\n",
      "DIAMETER[0,1,0.3] 0\n",
      "DIAMETER[0,1,0.35] 0\n",
      "DIAMETER[0,1,0.4] 0\n",
      "DIAMETER[0,1,0.45] 0\n",
      "DIAMETER[0,1,0.5] 0\n",
      "DIAMETER[0,1,0.6] 0\n",
      "DIAMETER[1,2,0.05] 1\n",
      "DIAMETER[1,2,0.06] 0\n",
      "DIAMETER[1,2,0.08] 0\n",
      "DIAMETER[1,2,0.1] 0\n",
      "DIAMETER[1,2,0.15] 0\n",
      "DIAMETER[1,2,0.2] 0\n",
      "DIAMETER[1,2,0.25] 0\n",
      "DIAMETER[1,2,0.3] 0\n",
      "DIAMETER[1,2,0.35] 0\n",
      "DIAMETER[1,2,0.4] 0\n",
      "DIAMETER[1,2,0.45] 0\n",
      "DIAMETER[1,2,0.5] 0\n",
      "DIAMETER[1,2,0.6] 0\n",
      "DIAMETER[1,3,0.05] 1\n",
      "DIAMETER[1,3,0.06] 0\n",
      "DIAMETER[1,3,0.08] 0\n",
      "DIAMETER[1,3,0.1] 0\n",
      "DIAMETER[1,3,0.15] 0\n",
      "DIAMETER[1,3,0.2] 0\n",
      "DIAMETER[1,3,0.25] 0\n",
      "DIAMETER[1,3,0.3] 0\n",
      "DIAMETER[1,3,0.35] 0\n",
      "DIAMETER[1,3,0.4] 0\n",
      "DIAMETER[1,3,0.45] 0\n",
      "DIAMETER[1,3,0.5] 0\n",
      "DIAMETER[1,3,0.6] 0\n",
      "DIAMETER[3,4,0.05] 1\n",
      "DIAMETER[3,4,0.06] 0\n",
      "DIAMETER[3,4,0.08] 0\n",
      "DIAMETER[3,4,0.1] 0\n",
      "DIAMETER[3,4,0.15] 0\n",
      "DIAMETER[3,4,0.2] 0\n",
      "DIAMETER[3,4,0.25] 0\n",
      "DIAMETER[3,4,0.3] 0\n",
      "DIAMETER[3,4,0.35] 0\n",
      "DIAMETER[3,4,0.4] 0\n",
      "DIAMETER[3,4,0.45] 0\n",
      "DIAMETER[3,4,0.5] 0\n",
      "DIAMETER[3,4,0.6] 0\n",
      "DIAMETER[4,5,0.05] 1\n",
      "DIAMETER[4,5,0.06] 0\n",
      "DIAMETER[4,5,0.08] 0\n",
      "DIAMETER[4,5,0.1] 0\n",
      "DIAMETER[4,5,0.15] 0\n",
      "DIAMETER[4,5,0.2] 0\n",
      "DIAMETER[4,5,0.25] 0\n",
      "DIAMETER[4,5,0.3] 0\n",
      "DIAMETER[4,5,0.35] 0\n",
      "DIAMETER[4,5,0.4] 0\n",
      "DIAMETER[4,5,0.45] 0\n",
      "DIAMETER[4,5,0.5] 0\n",
      "DIAMETER[4,5,0.6] 0\n",
      "FLOW[0,1] 0\n",
      "FLOW[1,2] 0\n",
      "FLOW[1,3] 0\n",
      "FLOW[3,4] 0\n",
      "FLOW[4,5] 0\n",
      "INFLOW[0] 0.9464\n",
      "INFLOW[1] 0.9464\n",
      "INFLOW[2] 0.9464\n",
      "INFLOW[3] 5.6784\n",
      "INFLOW[4] 0.9464\n",
      "INFLOW[5] 0.9464\n",
      "OUTFLOW[0] 0\n",
      "OUTFLOW[1] 0\n",
      "OUTFLOW[2] 0\n",
      "OUTFLOW[3] 4.732\n",
      "OUTFLOW[4] 0\n",
      "OUTFLOW[5] 0\n",
      "PUMP[0,1,2] 0\n",
      "PUMP[0,1,5] 0\n",
      "PUMP[0,1,800] 0\n",
      "PUMP[1,2,2] 0\n",
      "PUMP[1,2,5] 0\n",
      "PUMP[1,2,800] 0\n",
      "PUMP[1,3,2] 0\n",
      "PUMP[1,3,5] 0\n",
      "PUMP[1,3,800] 0\n",
      "PUMP[3,4,2] 0\n",
      "PUMP[3,4,5] 0\n",
      "PUMP[3,4,800] 0\n",
      "PUMP[4,5,2] 0\n",
      "PUMP[4,5,5] 0\n",
      "PUMP[4,5,800] 0\n",
      "PRESSURE BY PUMP[0,1] 0\n",
      "PRESSURE BY PUMP[1,2] 0\n",
      "PRESSURE BY PUMP[1,3] 0\n",
      "PRESSURE BY PUMP[3,4] 0\n",
      "PRESSURE BY PUMP[4,5] 0\n",
      "HEAD PRESSURE[0] 68.9476\n",
      "HEAD PRESSURE[1] 68.9476\n",
      "HEAD PRESSURE[2] 68.9476\n",
      "HEAD PRESSURE[3] 68.9476\n",
      "HEAD PRESSURE[4] 68.9476\n",
      "HEAD PRESSURE[5] 68.9476\n",
      "In Node Elevation[0] 55.7711\n",
      "In Node Elevation[1] 85.7792\n",
      "In Node Elevation[2] 56.8301\n",
      "In Node Elevation[3] 88.7289\n",
      "In Node Elevation[4] 51.4784\n",
      "In Node Elevation[5] 51.0773\n",
      "pipe area[0,1] 0.03925\n",
      "pipe area[1,2] 0.03925\n",
      "pipe area[1,3] 0.03925\n",
      "pipe area[3,4] 0.03925\n",
      "pipe area[4,5] 0.03925\n",
      "loss[0,1] 0\n",
      "loss[1,2] 0\n",
      "loss[1,3] 0\n",
      "loss[3,4] 0\n",
      "loss[4,5] 0\n",
      "item[0,1] 0\n",
      "item[1,2] 0\n",
      "item[1,3] 0\n",
      "item[3,4] 0\n",
      "item[4,5] 0\n",
      "Obj: 15151.4\n"
     ]
    }
   ],
   "source": [
    "status = m.status\n",
    "if status == GRB.Status.OPTIMAL:\n",
    "    for v in m.getVars():\n",
    "        print('%s %g' % (v.varName, v.x))\n",
    "    print('Obj: %g' % m.objVal)\n",
    "       \n",
    "elif status == GRB.Status.INFEASIBLE:\n",
    "    print('Optimization was stopped with status %d' % status)\n",
    "    # do IIS\n",
    "    m.computeIIS()\n",
    "    m.write(\"m.ilp\")\n",
    "    gp.read(\"m.ilp\")\n",
    "    for c in m.getConstrs():\n",
    "        if c.IISConstr:\n",
    "            print('%s' % c.constrName)"
   ]
  },
  {
   "cell_type": "code",
   "execution_count": 35,
   "id": "59b4719b",
   "metadata": {},
   "outputs": [],
   "source": [
    "m.update()\n",
    "copy = m.copy()\n",
    "\n",
    "if m.status == GRB.INFEASIBLE:\n",
    "    vars = copy.getVars()\n",
    "    ubpen = [1.0]*copy.numVars\n",
    "    copy.feasRelax(1, False, vars, None, ubpen, None, None)\n",
    "    copy.optimize()"
   ]
  },
  {
   "cell_type": "code",
   "execution_count": 36,
   "id": "895749d0",
   "metadata": {},
   "outputs": [],
   "source": [
    "import wntr"
   ]
  },
  {
   "cell_type": "code",
   "execution_count": 46,
   "id": "11675633",
   "metadata": {},
   "outputs": [
    {
     "data": {
      "text/plain": [
       "<AxesSubplot:title={'center':'Pressure at 5 hours'}>"
      ]
     },
     "execution_count": 46,
     "metadata": {},
     "output_type": "execute_result"
    },
    {
     "data": {
      "image/png": "[encoded data removed]",
      "text/plain": [
       "<Figure size 432x288 with 2 Axes>"
      ]
     },
     "metadata": {},
     "output_type": "display_data"
    },
    {
     "data": {
      "image/png": "[encoded data removed]",
      "text/plain": [
       "<Figure size 432x288 with 2 Axes>"
      ]
     },
     "metadata": {},
     "output_type": "display_data"
    }
   ],
   "source": [
    "# Create a water network model\n",
    "inp_file = 'networks/Net3.inp'\n",
    "wn = wntr.network.WaterNetworkModel(inp_file)\n",
    "\n",
    "# Graph the network\n",
    "wntr.graphics.plot_network(wn, node_attribute='elevation', node_colorbar_label='Elevation (m)')\n",
    "\n",
    "# Simulate hydraulics\n",
    "wn.options.hydraulic.demand_model = 'DD'\n",
    "sim = wntr.sim.EpanetSimulator(wn)\n",
    "wn.options.hydraulic.required_pressure = 21.097 # 30 psi = 21.097 m\n",
    "wn.options.hydraulic.minimum_pressure  = 3.516 # 5 psi = 3.516 m\n",
    "wn.options.hydraulic.minimum_pressure = 0.55\n",
    "junction = wn.get_node('121')\n",
    "junction.required_pressure = 14.065 # 20 psi = 14.065 m\n",
    "junction.minimum_pressure = 0.352 # 0.5 psi = 0.352 m\n",
    "junction.pressure_exponent = 0.4\n",
    "results = sim.run_sim()\n",
    "\n",
    "# Plot results on the network\n",
    "pressure_at_5hr = results.node['pressure'].loc[5*3600, :]\n",
    "wntr.graphics.plot_network(wn, node_attribute=pressure_at_5hr, node_size=30, \n",
    "                        title='Pressure at 5 hours')"
   ]
  },
  {
   "cell_type": "code",
   "execution_count": 47,
   "id": "8f937f27",
   "metadata": {},
   "outputs": [
    {
     "data": {
      "image/png": "[encoded data removed]",
      "text/plain": [
       "<Figure size 432x288 with 2 Axes>"
      ]
     },
     "metadata": {},
     "output_type": "display_data"
    }
   ],
   "source": [
    "wn.options.quality.parameter = 'AGE'\n",
    "sim = wntr.sim.EpanetSimulator(wn)\n",
    "results = sim.run_sim()\n",
    "water_age = results.node['quality']/3600 # convert seconds to hours\n",
    "anim = wntr.graphics.network_animation(wn, node_attribute=water_age, node_range=[0,24])"
   ]
  },
  {
   "cell_type": "code",
   "execution_count": 48,
   "id": "4ea9b666",
   "metadata": {},
   "outputs": [
    {
     "data": {
      "image/png": "[encoded data removed]",
      "text/plain": [
       "<Figure size 432x288 with 1 Axes>"
      ]
     },
     "metadata": {
      "needs_background": "light"
     },
     "output_type": "display_data"
    }
   ],
   "source": [
    "pressure_at_node123 = results.node['pressure'].loc[:,'123']\n",
    "ax = pressure_at_node123.plot()\n",
    "text = ax.set_xlabel(\"Time (s)\")\n",
    "text = ax.set_ylabel(\"Pressure (m)\")"
   ]
  },
  {
   "cell_type": "code",
   "execution_count": 38,
   "id": "e44c1a1f",
   "metadata": {},
   "outputs": [
    {
     "data": {
      "text/plain": [
       "<AxesSubplot:title={'center':'Nominal - Fire Fighting \\npressure difference at 24 hours'}>"
      ]
     },
     "execution_count": 38,
     "metadata": {},
     "output_type": "execute_result"
    },
    {
     "data": {
      "image/png": "[encoded data removed]",
      "text/plain": [
       "<Figure size 432x288 with 2 Axes>"
      ]
     },
     "metadata": {},
     "output_type": "display_data"
    }
   ],
   "source": [
    "\n",
    "# Create a water network model and simulate under nominal conditions\n",
    "inp_file = 'networks/Net3.inp'\n",
    "wn = wntr.network.WaterNetworkModel(inp_file)\n",
    "wn.options.hydraulic.demand_model = 'PDD'\n",
    "\n",
    "# Add fire demand and simulate\n",
    "fire_flow_demand = 0.252 # 4000 gal/min = 0.252 m3/s\n",
    "fire_start = 10*3600\n",
    "fire_end = 36*3600\n",
    "node = wn.get_node('197')\n",
    "node.add_fire_fighting_demand(wn, fire_flow_demand, fire_start, fire_end)\n",
    "sim = wntr.sim.WNTRSimulator(wn)\n",
    "fire_results = sim.run_sim()\n",
    "\n",
    "# Reset initial values and simulate hydraulics under nominal conditions\n",
    "wn.reset_initial_values()\n",
    "node.remove_fire_fighting_demand(wn)\n",
    "sim = wntr.sim.WNTRSimulator(wn)\n",
    "results = sim.run_sim()\n",
    "\n",
    "# Plot resulting differences on the network\n",
    "pressure_at_24hr = results.node['pressure'].loc[24*3600, :]\n",
    "fire_pressure_at_24hr = fire_results.node['pressure'].loc[24*3600, :]\n",
    "pressure_difference = fire_pressure_at_24hr - pressure_at_24hr\n",
    "wntr.graphics.plot_network(wn, node_attribute=pressure_difference, node_size=30, \n",
    "                        title='Nominal - Fire Fighting \\npressure difference at 24 hours')\n"
   ]
  },
  {
   "cell_type": "code",
   "execution_count": 41,
   "id": "1387fa9a",
   "metadata": {},
   "outputs": [
    {
     "data": {
      "image/png": "[encoded data removed]",
      "text/plain": [
       "<Figure size 432x288 with 1 Axes>"
      ]
     },
     "metadata": {},
     "output_type": "display_data"
    }
   ],
   "source": [
    ">>> wn = wntr.network.WaterNetworkModel()\n",
    ">>> wn.add_pattern('pat1', [1])\n",
    ">>> wn.add_pattern('pat2', [1,2,3,4,5,6,7,8,9,10])\n",
    ">>> wn.add_junction('node1', base_demand=0.01, demand_pattern='pat1', elevation=100,\n",
    "...     coordinates=(1,2))\n",
    ">>> wn.add_junction('node2', base_demand=0.02, demand_pattern='pat2', elevation=50,\n",
    "...     coordinates=(1,3))\n",
    ">>> wn.add_pipe('pipe1', 'node1', 'node2', length=304.8, diameter=0.3048,\n",
    "...    roughness=100, minor_loss=0.0, initial_status='OPEN')\n",
    ">>> wn.add_reservoir('res', base_head=125, head_pattern='pat1', coordinates=(0,2))\n",
    ">>> wn.add_pipe('pipe2', 'node1', 'res', length=100, diameter=0.3048, roughness=100,\n",
    "...     minor_loss=0.0, initial_status='OPEN')\n",
    ">>> ax = wntr.graphics.plot_network(wn)"
   ]
  }
 ],
 "metadata": {
  "kernelspec": {
   "display_name": "py3.8",
   "language": "python",
   "name": "py3.8"
  },
  "language_info": {
   "codemirror_mode": {
    "name": "ipython",
    "version": 3
   },
   "file_extension": ".py",
   "mimetype": "text/x-python",
   "name": "python",
   "nbconvert_exporter": "python",
   "pygments_lexer": "ipython3",
   "version": "3.8.12"
  }
 },
 "nbformat": 4,
 "nbformat_minor": 5
}
