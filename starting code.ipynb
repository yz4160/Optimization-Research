{
 "cells": [
  {
   "cell_type": "code",
   "execution_count": 1,
   "id": "2bc5579a",
   "metadata": {},
   "outputs": [],
   "source": [
    "import geopandas as gpd\n",
    "from osgeo import ogr\n",
    "import pandas as pd\n",
    "import tifffile as tiff #needed for the tif data for perry county\n",
    "import numpy as np\n",
    "import matplotlib.pyplot as plt\n",
    "from scipy.spatial import distance_matrix\n",
    "from math import sin, cos, sqrt, atan2, radians\n",
    "import sys\n",
    "from shapely.geometry import Polygon, box, Point, LineString, MultiLineString\n",
    "import pickle\n",
    "import gurobipy as gp\n",
    "from gurobipy import GRB\n",
    "import tifffile as tiff #needed for the tif data for perry county\n",
    "import xlwt\n",
    "from xlwt import Workbook\n",
    "from shapely.ops import snap, split, nearest_points\n",
    "#from shapely.geometry import MultiPoint, LineString\n",
    "#from dbfread import DBF\n",
    "import osmnx as ox\n",
    "import networkx as nx\n",
    "import math\n",
    "import gurobipy as gp\n",
    "from gurobipy import GRB\n",
    "import os\n",
    "import csv"
   ]
  },
  {
   "cell_type": "code",
   "execution_count": 2,
   "id": "8211d3da",
   "metadata": {},
   "outputs": [],
   "source": [
    "# calculate distance\n",
    "def haversinedist(lat1, lon1, lat2, lon2):\n",
    "    R = 6373.0\n",
    "    \n",
    "    lat1 = radians(lat1)\n",
    "    lon1 = radians(lon1)\n",
    "    lat2 = radians(lat2)\n",
    "    lon2 = radians(lon2)\n",
    "    \n",
    "    dlon = lon2 - lon1\n",
    "    dlat = lat2 - lat1\n",
    "    \n",
    "    a = sin(dlat / 2)**2 + cos(lat1) * cos(lat2) * sin(dlon / 2)**2\n",
    "    c = 2 * atan2(sqrt(a), sqrt(1 - a))\n",
    "    \n",
    "    distance = R * c\n",
    "    return distance * 1000 #unit in km"
   ]
  },
  {
   "cell_type": "code",
   "execution_count": 3,
   "id": "197fb4a2",
   "metadata": {},
   "outputs": [],
   "source": [
    "# read data\n",
    "def readClusterFile(fileID):\n",
    "    file = np.genfromtxt(fileID, delimiter=\",\", skip_header = 1)\n",
    "    file = file[:,1:]\n",
    "    return file\n",
    "clusterfile = 'Centralized_elevcluster' + str(1) + '.csv'"
   ]
  },
  {
   "cell_type": "code",
   "execution_count": 4,
   "id": "05126aee",
   "metadata": {},
   "outputs": [],
   "source": [
    "building_coords = readClusterFile(clusterfile)"
   ]
  },
  {
   "cell_type": "code",
   "execution_count": 5,
   "id": "66dd5896",
   "metadata": {},
   "outputs": [],
   "source": [
    "#convert data to dataframe\n",
    "df = pd.DataFrame(building_coords,\n",
    "                  columns = ['longitude','latitude','elevation'])"
   ]
  },
  {
   "cell_type": "code",
   "execution_count": 6,
   "id": "303b1252",
   "metadata": {},
   "outputs": [
    {
     "data": {
      "text/plain": [
       "longitude    0.0\n",
       "latitude     0.0\n",
       "elevation    0.0\n",
       "dtype: float64"
      ]
     },
     "execution_count": 6,
     "metadata": {},
     "output_type": "execute_result"
    }
   ],
   "source": [
    "#check # of null\n",
    "df.isnull().sum(axis=0).sort_values(ascending=False)/float(len(building_coords))"
   ]
  },
  {
   "cell_type": "code",
   "execution_count": 7,
   "id": "5f3d77d2",
   "metadata": {},
   "outputs": [
    {
     "data": {
      "text/plain": [
       "array([46, 94, 60, ..., 92, 15, 64])"
      ]
     },
     "execution_count": 7,
     "metadata": {},
     "output_type": "execute_result"
    }
   ],
   "source": [
    "# cluster, n_clusters is from table 2 in paper draft, using ward-tree\n",
    "from sklearn.cluster import AgglomerativeClustering\n",
    "cluster = AgglomerativeClustering(n_clusters=100, affinity='euclidean', linkage='ward')\n",
    "cluster.fit_predict(building_coords[:,1:2])"
   ]
  },
  {
   "cell_type": "code",
   "execution_count": 8,
   "id": "430c2302",
   "metadata": {},
   "outputs": [],
   "source": [
    "# add cluster to dataframe\n",
    "df['cluster.labels_'] = cluster.labels_.tolist()"
   ]
  },
  {
   "cell_type": "code",
   "execution_count": 9,
   "id": "a199e948",
   "metadata": {},
   "outputs": [],
   "source": [
    "# select highest and lowest nodes in cluster\n",
    "tank = df.loc[df.groupby(['cluster.labels_'])['elevation'].idxmax()].reset_index(drop=True)\n",
    "trem = df.loc[df.groupby(['cluster.labels_'])['elevation'].idxmin()].reset_index(drop=True)"
   ]
  },
  {
   "cell_type": "code",
   "execution_count": 10,
   "id": "1e5249ae",
   "metadata": {},
   "outputs": [],
   "source": [
    "# creat MST\n",
    "\n",
    "graph = []\n",
    "mstree = []\n",
    "def createMSTnx(dataframe):\n",
    "    #only takes longitude and latitude from the cluster data, note we also have elevation and stuff there too\n",
    "    #coordinates = twoDcluster\n",
    "    for k in range(10):\n",
    "        cluster = dataframe[dataframe['cluster.labels_'] == k]\n",
    "        cluster = cluster[['longitude','latitude']]\n",
    "        latlon = cluster.to_numpy()\n",
    "        nrows, ncols = latlon.shape\n",
    "        #creates graph\n",
    "        graph.append(nx.Graph())\n",
    "        weights = []\n",
    "        #distance in km as weight between each point in the graph\n",
    "        for i in range(nrows):\n",
    "            graph[k].add_node(i,pos=(latlon[i,0],latlon[i,1]))\n",
    "            for j in range(i+1,nrows):\n",
    "                dist = haversinedist(latlon[i,1], latlon[i,0], latlon[j,1], latlon[j,0])\n",
    "                weights.append(dist)\n",
    "                graph[k].add_edge(i,j, weight = dist)\n",
    "        #creates MST\n",
    "        mstree.append(nx.minimum_spanning_tree(graph[k]))\n",
    "    return mstree, graph"
   ]
  },
  {
   "cell_type": "code",
   "execution_count": 11,
   "id": "dfbf9029",
   "metadata": {},
   "outputs": [
    {
     "data": {
      "text/plain": [
       "([<networkx.classes.graph.Graph at 0x7fd758d2fb50>,\n",
       "  <networkx.classes.graph.Graph at 0x7fd7685f8700>,\n",
       "  <networkx.classes.graph.Graph at 0x7fd7685f85e0>,\n",
       "  <networkx.classes.graph.Graph at 0x7fd758d20eb0>,\n",
       "  <networkx.classes.graph.Graph at 0x7fd758d2ffd0>,\n",
       "  <networkx.classes.graph.Graph at 0x7fd7685f8e20>,\n",
       "  <networkx.classes.graph.Graph at 0x7fd7685f8cd0>,\n",
       "  <networkx.classes.graph.Graph at 0x7fd7685f83d0>,\n",
       "  <networkx.classes.graph.Graph at 0x7fd7685f86a0>,\n",
       "  <networkx.classes.graph.Graph at 0x7fd7685f8790>],\n",
       " [<networkx.classes.graph.Graph at 0x7fd758d2fee0>,\n",
       "  <networkx.classes.graph.Graph at 0x7fd758d2ffa0>,\n",
       "  <networkx.classes.graph.Graph at 0x7fd758197c40>,\n",
       "  <networkx.classes.graph.Graph at 0x7fd758d2f0d0>,\n",
       "  <networkx.classes.graph.Graph at 0x7fd758d2fe50>,\n",
       "  <networkx.classes.graph.Graph at 0x7fd758d2f880>,\n",
       "  <networkx.classes.graph.Graph at 0x7fd758d2feb0>,\n",
       "  <networkx.classes.graph.Graph at 0x7fd758d20fd0>,\n",
       "  <networkx.classes.graph.Graph at 0x7fd7685f8b20>,\n",
       "  <networkx.classes.graph.Graph at 0x7fd758197460>])"
      ]
     },
     "execution_count": 11,
     "metadata": {},
     "output_type": "execute_result"
    }
   ],
   "source": [
    "createMSTnx(df)"
   ]
  },
  {
   "cell_type": "code",
   "execution_count": 12,
   "id": "07f840d6",
   "metadata": {},
   "outputs": [
    {
     "data": {
      "image/png": "[encoded data removed]",
      "text/plain": [
       "<Figure size 432x288 with 1 Axes>"
      ]
     },
     "metadata": {},
     "output_type": "display_data"
    }
   ],
   "source": [
    "# draw a simulation of mst graph\n",
    "\n",
    "nx.draw(mstree[9],with_labels = True)"
   ]
  },
  {
   "cell_type": "code",
   "execution_count": 13,
   "id": "2c5d802c",
   "metadata": {},
   "outputs": [
    {
     "name": "stdout",
     "output_type": "stream",
     "text": [
      "Set parameter Username\n",
      "Academic license - for non-commercial use only - expires 2022-09-18\n",
      "Set parameter TimeLimit to value 12000\n"
     ]
    }
   ],
   "source": [
    "m = gp.Model('pipe and pump distribution')\n",
    "m.Params.timeLimit = 12000"
   ]
  },
  {
   "cell_type": "code",
   "execution_count": 14,
   "id": "6a2fe16e",
   "metadata": {},
   "outputs": [],
   "source": [
    "# pipe parameters\n",
    "pipesize = [0.05, 0.06, 0.08, 0.1, 0.15, 0.2, 0.25, 0.3, 0.35, 0.4, 0.45, 0.5, 0.6] #m\n",
    "pipesize_str, pipecost = gp.multidict({'0.05': 8.7, '0.06': 9.5, '0.08': 11, \\\n",
    "                                                   '0.1': 12.6, '0.15': 43.5,'0.2': 141, '0.25': 151, '0.3': 161, '0.35':230, '0.4': 246, '0.45':262, \n",
    "                                                   '0.5':292, '0.6':315})"
   ]
  },
  {
   "cell_type": "code",
   "execution_count": 15,
   "id": "15edc2a5",
   "metadata": {},
   "outputs": [],
   "source": [
    "# find label of tank node in cluster\n",
    "tank_lon = str(tank[tank['cluster.labels_'] == 9][['longitude']].iat[0,0])\n",
    "tank_lat = str(tank[tank['cluster.labels_'] == 9][['latitude']].iat[0,0])\n",
    "for i in mstree[9].nodes():\n",
    "    if str(mstree[9].nodes[i]['pos'][0]) == tank_lon and str(mstree[9].nodes[i]['pos'][1]) == tank_lat:\n",
    "        tank_node = i"
   ]
  },
  {
   "cell_type": "code",
   "execution_count": 16,
   "id": "bc61d043",
   "metadata": {},
   "outputs": [],
   "source": [
    "#create flow direction dict\n",
    "links = list(mstree[9].edges)\n",
    "flow_dir = {}\n",
    "for i,j in links:\n",
    "    if len(nx.shortest_path(mstree[9],source=tank_node, target=i)) < len(nx.shortest_path(mstree[9],source=tank_node, target=j)):\n",
    "        # if node i is nearer to tank\n",
    "        flow_dir[i,j]=(i,j)\n",
    "    if len(nx.shortest_path(mstree[9],source=tank_node, target=i)) > len(nx.shortest_path(mstree[9],source=tank_node, target=j)):\n",
    "        # if node j is nearer to tank\n",
    "        flow_dir[i,j]=(j,i) "
   ]
  },
  {
   "cell_type": "code",
   "execution_count": 17,
   "id": "0bea496a",
   "metadata": {},
   "outputs": [],
   "source": [
    "innode = {}\n",
    "outnode = {}\n",
    "for i,j in links:\n",
    "    if len(nx.shortest_path(mstree[9],source=tank_node, target=i)) > len(nx.shortest_path(mstree[9],source=tank_node, target=j)):\n",
    "        # if node j is nearer to tank\n",
    "        innode.setdefault(i, [])\n",
    "        innode[i].append(j)\n",
    "        outnode.setdefault(j, [])\n",
    "        outnode[j].append(i)\n",
    "    else:\n",
    "        # if node i is nearer to tank\n",
    "        innode.setdefault(j, [])\n",
    "        innode[j].append(i)\n",
    "        outnode.setdefault(i, [])\n",
    "        outnode[i].append(j)\n",
    "for i in mstree[9].nodes():\n",
    "    innode.setdefault(i,[])\n",
    "    outnode.setdefault(i, [])"
   ]
  },
  {
   "cell_type": "code",
   "execution_count": 18,
   "id": "b5453e99",
   "metadata": {},
   "outputs": [],
   "source": [
    "# pipe flow\n",
    "pipe_flow = {}\n",
    "for i,j in links:\n",
    "    start = flow_dir[i,j][0]\n",
    "    end = flow_dir[i,j][1]\n",
    "    pipe_flow[i,j] = 1.095E-5*(len(outnode[end])+1) #250gpd to m3/s"
   ]
  },
  {
   "cell_type": "code",
   "execution_count": 19,
   "id": "c45d0aac",
   "metadata": {},
   "outputs": [],
   "source": [
    "# Edge list\n",
    "edge_list = {}\n",
    "for i,j in links:\n",
    "        edge_list[i,j] =[pipe_flow[i,j],mstree[9][i][j][\"weight\"]]"
   ]
  },
  {
   "cell_type": "code",
   "execution_count": 20,
   "id": "1df6d28f",
   "metadata": {},
   "outputs": [
    {
     "data": {
      "text/plain": [
       "1408.2637063477366"
      ]
     },
     "execution_count": 20,
     "metadata": {},
     "output_type": "execute_result"
    }
   ],
   "source": [
    "mstree[9][3][4][\"weight\"]"
   ]
  },
  {
   "cell_type": "code",
   "execution_count": 21,
   "id": "5761b5b8",
   "metadata": {},
   "outputs": [
    {
     "data": {
      "text/plain": [
       "{(0, 1): [1.095e-05, 64.2426819389007],\n",
       " (1, 2): [1.095e-05, 51.495293154562916],\n",
       " (1, 3): [3.285e-05, 139.08777358090938],\n",
       " (3, 4): [2.19e-05, 1408.2637063477366],\n",
       " (4, 5): [1.095e-05, 30.897175888775504]}"
      ]
     },
     "execution_count": 21,
     "metadata": {},
     "output_type": "execute_result"
    }
   ],
   "source": [
    "edge_list"
   ]
  },
  {
   "cell_type": "code",
   "execution_count": 22,
   "id": "92617893",
   "metadata": {},
   "outputs": [],
   "source": [
    "poss_loss = {}\n",
    "for i, j in links:\n",
    "    poss_loss[i,j]= 10700*(edge_list[i,j][0]/140)**1.852*(1/0.05**4.8704)*mstree[9][i][j][\"weight\"]\n",
    "\n",
    "\n",
    "Hmax = max(poss_loss.values())\n",
    "Hmax = 0.1"
   ]
  },
  {
   "cell_type": "code",
   "execution_count": 23,
   "id": "d416f156",
   "metadata": {},
   "outputs": [
    {
     "data": {
      "text/plain": [
       "{(0, 1): 0.10282761393865626,\n",
       " (1, 2): 0.08242398922870892,\n",
       " (1, 3): 1.7029567340084986,\n",
       " (3, 4): 8.13724953182342,\n",
       " (4, 5): 0.04945439353088333}"
      ]
     },
     "execution_count": 23,
     "metadata": {},
     "output_type": "execute_result"
    }
   ],
   "source": [
    "poss_loss"
   ]
  },
  {
   "cell_type": "code",
   "execution_count": 24,
   "id": "ff9f0acf",
   "metadata": {},
   "outputs": [],
   "source": [
    "#node elevation excavation in meters\n",
    "#upper bound is arbritrary maximum depth assuming 1 foot or 0.3048 meters of cover beneath the surface is needed for the pipes\n",
    "#a lower bound variable is created but not used. In future models might need to implement that depending on the site (digging too deep for excavation is not feasible for many projects)\n",
    "cluster9 = df[df['cluster.labels_'] == 9]\n",
    "cluster9_elv = cluster9[['elevation']]\n",
    "elevation_ub = dict()\n",
    "elevation_lb = dict()\n",
    "for i in range(mstree[9].number_of_nodes()):\n",
    "    elevation_ub[i] = cluster9_elv.iloc[[i]] - 0.3048\n",
    "    elevation_lb[i] = cluster9_elv.iloc[[i]] - 30"
   ]
  },
  {
   "cell_type": "code",
   "execution_count": 25,
   "id": "1b45d7cf",
   "metadata": {},
   "outputs": [],
   "source": [
    "# binary variable indicating if at link ij pipe of diameter k is implemented\n",
    "d = m.addVars(mstree[9].edges(), pipesize, vtype = GRB.BINARY, name = \"diameter\")\n",
    "#continuous variable representing the hydro loss in link ij.\n",
    "HL = m.addVars(mstree[9].edges(),lb = 0, vtype = GRB.CONTINUOUS, name = \"hydro loss\")\n",
    "# hydro gradient\n",
    "J = m.addVars(mstree[9].edges(),lb = 0, vtype = GRB.CONTINUOUS, name = \"hydro gradient\")\n",
    "# binary variable indicating if at link ij the pump of type m is implemented.\n",
    "p = m.addVars(mstree[9].edges(), vtype = GRB.BINARY, name = \"PUMP\")\n",
    "#continuous variable representing the pressure injected by the pump at link ij.\n",
    "pr = m.addVars(mstree[9].edges(),lb = 0, vtype = GRB.CONTINUOUS, name = \"PRESSURE BY PUMP\")\n",
    "#pipe elevations at node i \n",
    "e = m.addVars(mstree[9].nodes(), vtype = GRB.CONTINUOUS, name = 'In Node Elevation')\n",
    "#continuous variable representing the head pressure at node i\n",
    "P = m.addVars(mstree[9].nodes(),lb = 0, vtype = GRB.CONTINUOUS, name = \"HEAD PRESSURE\")"
   ]
  },
  {
   "cell_type": "code",
   "execution_count": 26,
   "id": "b59786e5",
   "metadata": {},
   "outputs": [],
   "source": [
    "for i,j in links:\n",
    "#Hazen Williams equation, A = 10700, C=140, P472\n",
    "    m.addConstr(J[i,j] == \n",
    "                10700*(edge_list[i,j][0]/140)**1.852*gp.quicksum(d[i,j,k]/(k**4.8704) for k in pipesize)\n",
    "               , \"Hydro loss\")\n",
    "    m.addConstr(HL[i,j] == J[i,j]*mstree[9][i][j][\"weight\"])\n",
    "    m.addConstr(HL[i,j] >= 0)\n",
    "    m.addConstr(HL[i,j] <= Hmax)\n",
    "#only one pipe per edge\n",
    "    m.addConstr((d.sum(i, j, '*') == 1.0), \"single size chosen\")\n",
    "#injected pressure pr[i,j] must be less than a huge number.\n",
    "    m.addConstr(pr[i,j]<=p[i,j]*10**6)\n",
    "    if len(nx.shortest_path(mstree[9],source=tank_node, target=i)) < len(nx.shortest_path(mstree[9],source=tank_node, target=j)):\n",
    "        # if node i is nearer to tank        \n",
    "        m.addConstr(P[j] == P[i] -HL[i,j] + e[i] - e[j] + pr[i,j], \"Energy balance\")\n",
    "    if len(nx.shortest_path(mstree[9],source=tank_node, target=i)) > len(nx.shortest_path(mstree[9],source=tank_node, target=j)):\n",
    "        # if node j is nearer to tank        \n",
    "        m.addConstr(P[i] == P[j] -HL[i,j] + e[j] - e[i] + pr[i,j], \"Energy balance\")\n",
    "# Velocity must be between 0.6 and 3 m/s to 30\n",
    "    m.addConstr((\n",
    "    edge_list[i,j][0] <= ((3.14/8)*gp.quicksum(d[i,j,k]*k**2 for k in pipesize)) * 10), \"Velocity Max Constr\"+ str([i,j]))\n",
    "    #m.addConstr((\n",
    "    #edge_list[i,j][0] >= ((3.14/8)*gp.quicksum(d[i,j,k]*k**2 for k in pipesize)) * 0.6), \"Velocity Min Constr\" + str([i,j]))  \n",
    "    "
   ]
  },
  {
   "cell_type": "code",
   "execution_count": 27,
   "id": "c5b2aea2",
   "metadata": {},
   "outputs": [],
   "source": [
    "for i in mstree[9].nodes():\n",
    "#pipe elevation must be betwenn lb and ub\n",
    "    m.addConstr(e[i] >= float(str(elevation_lb[i])[20:]), \"PIPE ELV LB\")\n",
    "    m.addConstr(e[i] <= float(str(elevation_ub[i])[20:]), \"PIPE ELV UB\")\n",
    "    \n",
    "    m.addConstr(P[i] >= 68.9476, \"Min head pressure\") #10 psi, covert it to kpa\n",
    "    m.addConstr(P[i] <= 551.581, \"Max head pressure\") #80 psi, covert it to kpa  "
   ]
  },
  {
   "cell_type": "code",
   "execution_count": 28,
   "id": "efdc1c3a",
   "metadata": {},
   "outputs": [],
   "source": [
    "excavation = 25\n",
    "bedding_cost_sq_ft = 6\n",
    "capital_cost_pump_station = 166000\n",
    "ps_flow_cost = 0.19\n",
    "ps_OM_cost = 175950"
   ]
  },
  {
   "cell_type": "code",
   "execution_count": 29,
   "id": "44e3a33c",
   "metadata": {},
   "outputs": [],
   "source": [
    "# pipe cost \n",
    "obj1 = gp.quicksum(mstree[9][i][j][\"weight\"] * gp.quicksum(pipecost[str(k)] * d[i, j, k] \n",
    "                                                           for k in pipesize) for i,j in mstree[9].edges())\n",
    "# Capital cost of pump stations\n",
    "obj2 = gp.quicksum(p.sum(i, j) * capital_cost_pump_station for i,j in mstree[9].edges())\n",
    "\n",
    "#Operation and maintenance costs\n",
    "obj3 = gp.quicksum(p.sum(i, j)*ps_OM_cost for i, j in mstree[9].edges())\n",
    "\n",
    "obj = obj1+obj2+obj3"
   ]
  },
  {
   "cell_type": "code",
   "execution_count": 30,
   "id": "c705008f",
   "metadata": {},
   "outputs": [
    {
     "name": "stdout",
     "output_type": "stream",
     "text": [
      "Gurobi Optimizer version 9.5.0 build v9.5.0rc5 (mac64[rosetta2])\n",
      "Thread count: 8 physical cores, 8 logical processors, using up to 8 threads\n",
      "Optimize a model with 64 rows, 97 columns and 284 nonzeros\n",
      "Model fingerprint: 0x9893f235\n",
      "Variable types: 27 continuous, 70 integer (70 binary)\n",
      "Coefficient statistics:\n",
      "  Matrix range     [9e-09, 1e+06]\n",
      "  Objective range  [3e+02, 4e+05]\n",
      "  Bounds range     [1e+00, 1e+00]\n",
      "  RHS range        [1e-05, 6e+02]\n",
      "Warning: Model contains large matrix coefficient range\n",
      "         Consider reformulating model or setting NumericFocus parameter\n",
      "         to avoid numerical issues.\n",
      "Presolve removed 64 rows and 97 columns\n",
      "Presolve time: 0.00s\n",
      "Presolve: All rows and columns removed\n",
      "\n",
      "Explored 0 nodes (0 simplex iterations) in 0.00 seconds (0.00 work units)\n",
      "Thread count was 1 (of 8 available processors)\n",
      "\n",
      "Solution count 1: 64339.1 \n",
      "\n",
      "Optimal solution found (tolerance 1.00e-04)\n",
      "Best objective 6.433909713234e+04, best bound 6.433909713234e+04, gap 0.0000%\n"
     ]
    }
   ],
   "source": [
    "m.setObjective(obj, GRB.MINIMIZE)\n",
    "m.optimize()"
   ]
  },
  {
   "cell_type": "code",
   "execution_count": 31,
   "id": "e1133972",
   "metadata": {},
   "outputs": [
    {
     "name": "stdout",
     "output_type": "stream",
     "text": [
      "diameter[0,1,0.05] 0\n",
      "diameter[0,1,0.06] 1\n",
      "diameter[0,1,0.08] 0\n",
      "diameter[0,1,0.1] 0\n",
      "diameter[0,1,0.15] 0\n",
      "diameter[0,1,0.2] 0\n",
      "diameter[0,1,0.25] 0\n",
      "diameter[0,1,0.3] 0\n",
      "diameter[0,1,0.35] 0\n",
      "diameter[0,1,0.4] 0\n",
      "diameter[0,1,0.45] 0\n",
      "diameter[0,1,0.5] 0\n",
      "diameter[0,1,0.6] 0\n",
      "diameter[1,2,0.05] 1\n",
      "diameter[1,2,0.06] 0\n",
      "diameter[1,2,0.08] 0\n",
      "diameter[1,2,0.1] 0\n",
      "diameter[1,2,0.15] 0\n",
      "diameter[1,2,0.2] 0\n",
      "diameter[1,2,0.25] 0\n",
      "diameter[1,2,0.3] 0\n",
      "diameter[1,2,0.35] 0\n",
      "diameter[1,2,0.4] 0\n",
      "diameter[1,2,0.45] 0\n",
      "diameter[1,2,0.5] 0\n",
      "diameter[1,2,0.6] 0\n",
      "diameter[1,3,0.05] 0\n",
      "diameter[1,3,0.06] 0\n",
      "diameter[1,3,0.08] 0\n",
      "diameter[1,3,0.1] 1\n",
      "diameter[1,3,0.15] 0\n",
      "diameter[1,3,0.2] 0\n",
      "diameter[1,3,0.25] 0\n",
      "diameter[1,3,0.3] 0\n",
      "diameter[1,3,0.35] 0\n",
      "diameter[1,3,0.4] 0\n",
      "diameter[1,3,0.45] 0\n",
      "diameter[1,3,0.5] 0\n",
      "diameter[1,3,0.6] 0\n",
      "diameter[3,4,0.05] 0\n",
      "diameter[3,4,0.06] 0\n",
      "diameter[3,4,0.08] 0\n",
      "diameter[3,4,0.1] 0\n",
      "diameter[3,4,0.15] 1\n",
      "diameter[3,4,0.2] 0\n",
      "diameter[3,4,0.25] 0\n",
      "diameter[3,4,0.3] 0\n",
      "diameter[3,4,0.35] 0\n",
      "diameter[3,4,0.4] 0\n",
      "diameter[3,4,0.45] 0\n",
      "diameter[3,4,0.5] 0\n",
      "diameter[3,4,0.6] 0\n",
      "diameter[4,5,0.05] 1\n",
      "diameter[4,5,0.06] 0\n",
      "diameter[4,5,0.08] 0\n",
      "diameter[4,5,0.1] 0\n",
      "diameter[4,5,0.15] 0\n",
      "diameter[4,5,0.2] 0\n",
      "diameter[4,5,0.25] 0\n",
      "diameter[4,5,0.3] 0\n",
      "diameter[4,5,0.35] 0\n",
      "diameter[4,5,0.4] 0\n",
      "diameter[4,5,0.45] 0\n",
      "diameter[4,5,0.5] 0\n",
      "diameter[4,5,0.6] 0\n",
      "hydro loss[0,1] 0.0423122\n",
      "hydro loss[1,2] 0.082424\n",
      "hydro loss[1,3] 0.0582193\n",
      "hydro loss[3,4] 0.0386106\n",
      "hydro loss[4,5] 0.0494544\n",
      "hydro gradient[0,1] 0.00065863\n",
      "hydro gradient[1,2] 0.00160061\n",
      "hydro gradient[1,3] 0.00041858\n",
      "hydro gradient[3,4] 2.74171e-05\n",
      "hydro gradient[4,5] 0.00160061\n",
      "PUMP[0,1] 0\n",
      "PUMP[1,2] -0\n",
      "PUMP[1,3] 0\n",
      "PUMP[3,4] 0\n",
      "PUMP[4,5] 0\n",
      "PRESSURE BY PUMP[0,1] 0\n",
      "PRESSURE BY PUMP[1,2] 0\n",
      "PRESSURE BY PUMP[1,3] 0\n",
      "PRESSURE BY PUMP[3,4] 0\n",
      "PRESSURE BY PUMP[4,5] 0\n",
      "In Node Elevation[0] 58.9331\n",
      "In Node Elevation[1] 58.9755\n",
      "In Node Elevation[2] 56.8301\n",
      "In Node Elevation[3] 59.0337\n",
      "In Node Elevation[4] 58.9951\n",
      "In Node Elevation[5] 58.9456\n",
      "HEAD PRESSURE[0] 68.9476\n",
      "HEAD PRESSURE[1] 68.9476\n",
      "HEAD PRESSURE[2] 71.0105\n",
      "HEAD PRESSURE[3] 68.9476\n",
      "HEAD PRESSURE[4] 68.9476\n",
      "HEAD PRESSURE[5] 68.9476\n",
      "Obj: 64339.1\n"
     ]
    }
   ],
   "source": [
    "status = m.status\n",
    "if status == GRB.Status.OPTIMAL:\n",
    "    for v in m.getVars():\n",
    "        print('%s %g' % (v.varName, v.x))\n",
    "    print('Obj: %g' % m.objVal)\n",
    "       \n",
    "elif status == GRB.Status.INFEASIBLE:\n",
    "    print('Optimization was stopped with status %d' % status)\n",
    "    # do IIS\n",
    "    m.computeIIS()\n",
    "    m.write(\"m.mps\")\n",
    "    gp.read(\"m.mps\")\n",
    "    for c in m.getConstrs():\n",
    "        if c.IISConstr:\n",
    "            print('%s' % c.constrName)"
   ]
  },
  {
   "cell_type": "code",
   "execution_count": 32,
   "id": "eaa8e03a",
   "metadata": {},
   "outputs": [
    {
     "data": {
      "text/plain": [
       "{(0, 1): [1.095e-05, 64.2426819389007, 0.06],\n",
       " (1, 2): [1.095e-05, 51.495293154562916, 0.05],\n",
       " (1, 3): [3.285e-05, 139.08777358090938, 0.1],\n",
       " (3, 4): [2.19e-05, 1408.2637063477366, 0.15],\n",
       " (4, 5): [1.095e-05, 30.897175888775504, 0.05]}"
      ]
     },
     "execution_count": 32,
     "metadata": {},
     "output_type": "execute_result"
    }
   ],
   "source": [
    "count = 0\n",
    "\n",
    "for i, j in links:\n",
    "    for k in range(len(pipesize)):\n",
    "        if m.getVars()[k+count].X == 1:\n",
    "            edge_list[i,j].append(pipesize[k])\n",
    "    count = count + len(pipesize)\n",
    "\n",
    "edge_list"
   ]
  },
  {
   "cell_type": "code",
   "execution_count": 33,
   "id": "919e9007",
   "metadata": {},
   "outputs": [
    {
     "data": {
      "text/plain": [
       "[0.06, 0.05, 0.1, 0.15, 0.05]"
      ]
     },
     "execution_count": 33,
     "metadata": {},
     "output_type": "execute_result"
    }
   ],
   "source": [
    "d = []\n",
    "for i,j in links:\n",
    "    d.append(edge_list[i,j][2])\n",
    "d"
   ]
  },
  {
   "cell_type": "code",
   "execution_count": 34,
   "id": "d604bea4",
   "metadata": {},
   "outputs": [],
   "source": [
    "#d = [i*10 for i in d]\n",
    "#d"
   ]
  },
  {
   "cell_type": "markdown",
   "id": "e5480e65",
   "metadata": {},
   "source": [
    "edge_diameter = {}\n",
    "for i,j in links:\n",
    "        edge_list[i,j] =d[k]"
   ]
  },
  {
   "cell_type": "code",
   "execution_count": 35,
   "id": "7cc58415",
   "metadata": {},
   "outputs": [
    {
     "data": {
      "image/png": "[encoded data removed]",
      "text/plain": [
       "<Figure size 432x288 with 1 Axes>"
      ]
     },
     "metadata": {},
     "output_type": "display_data"
    }
   ],
   "source": [
    "nx.draw(mstree[9], edge_color=d, width=2, with_labels=True)"
   ]
  },
  {
   "cell_type": "code",
   "execution_count": 36,
   "id": "200a116b",
   "metadata": {},
   "outputs": [
    {
     "data": {
      "text/plain": [
       "{(0, 1): 0.06, (1, 2): 0.05, (1, 3): 0.1, (3, 4): 0.15, (4, 5): 0.05}"
      ]
     },
     "execution_count": 36,
     "metadata": {},
     "output_type": "execute_result"
    }
   ],
   "source": [
    "edge_dia = {}\n",
    "count = 0\n",
    "for i,j in links:\n",
    "    edge_dia[i,j]=d[count]\n",
    "    count = count+1\n",
    "edge_dia"
   ]
  },
  {
   "cell_type": "code",
   "execution_count": 37,
   "id": "b294d3f5",
   "metadata": {},
   "outputs": [
    {
     "data": {
      "image/png": "[encoded data removed]",
      "text/plain": [
       "<Figure size 432x288 with 1 Axes>"
      ]
     },
     "metadata": {},
     "output_type": "display_data"
    }
   ],
   "source": [
    "pos = nx.spring_layout(mstree[9])\n",
    "\n",
    "nx.draw_networkx(mstree[9], pos)\n",
    "\n",
    "nx.draw_networkx_edge_labels(mstree[9], pos, edge_labels=edge_dia,label_pos=0.5, font_size=8)\n",
    "\n",
    "plt.show()"
   ]
  },
  {
   "cell_type": "code",
   "execution_count": null,
   "id": "751b9c88",
   "metadata": {},
   "outputs": [],
   "source": []
  }
 ],
 "metadata": {
  "kernelspec": {
   "display_name": "py3.8",
   "language": "python",
   "name": "py3.8"
  },
  "language_info": {
   "codemirror_mode": {
    "name": "ipython",
    "version": 3
   },
   "file_extension": ".py",
   "mimetype": "text/x-python",
   "name": "python",
   "nbconvert_exporter": "python",
   "pygments_lexer": "ipython3",
   "version": "3.8.12"
  }
 },
 "nbformat": 4,
 "nbformat_minor": 5
}
