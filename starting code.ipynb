{
 "cells": [
  {
   "cell_type": "code",
   "execution_count": 1,
   "id": "2bc5579a",
   "metadata": {},
   "outputs": [],
   "source": [
    "import geopandas as gpd\n",
    "from osgeo import ogr\n",
    "import pandas as pd\n",
    "import tifffile as tiff #needed for the tif data for perry county\n",
    "import numpy as np\n",
    "import matplotlib.pyplot as plt\n",
    "from scipy.spatial import distance_matrix\n",
    "from math import sin, cos, sqrt, atan2, radians\n",
    "import sys\n",
    "from shapely.geometry import Polygon, box, Point, LineString, MultiLineString\n",
    "import pickle\n",
    "import gurobipy as gp\n",
    "from gurobipy import GRB\n",
    "import tifffile as tiff #needed for the tif data for perry county\n",
    "import xlwt\n",
    "from xlwt import Workbook\n",
    "from shapely.ops import snap, split, nearest_points\n",
    "#from shapely.geometry import MultiPoint, LineString\n",
    "#from dbfread import DBF\n",
    "import osmnx as ox\n",
    "import networkx as nx\n",
    "import math\n",
    "import gurobipy as gp\n",
    "from gurobipy import GRB\n",
    "import os\n",
    "import csv"
   ]
  },
  {
   "cell_type": "code",
   "execution_count": 2,
   "id": "8211d3da",
   "metadata": {},
   "outputs": [],
   "source": [
    "# calculate distance\n",
    "def haversinedist(lat1, lon1, lat2, lon2):\n",
    "    R = 6373.0\n",
    "    \n",
    "    lat1 = radians(lat1)\n",
    "    lon1 = radians(lon1)\n",
    "    lat2 = radians(lat2)\n",
    "    lon2 = radians(lon2)\n",
    "    \n",
    "    dlon = lon2 - lon1\n",
    "    dlat = lat2 - lat1\n",
    "    \n",
    "    a = sin(dlat / 2)**2 + cos(lat1) * cos(lat2) * sin(dlon / 2)**2\n",
    "    c = 2 * atan2(sqrt(a), sqrt(1 - a))\n",
    "    \n",
    "    distance = R * c\n",
    "    return distance * 1000 #unit in meters"
   ]
  },
  {
   "cell_type": "code",
   "execution_count": 3,
   "id": "197fb4a2",
   "metadata": {},
   "outputs": [],
   "source": [
    "# read data\n",
    "def readClusterFile(fileID):\n",
    "    file = np.genfromtxt(fileID, delimiter=\",\", skip_header = 1)\n",
    "    file = file[:,1:]\n",
    "    return file\n",
    "clusterfile = 'Centralized_elevcluster' + str(1) + '.csv'"
   ]
  },
  {
   "cell_type": "code",
   "execution_count": 4,
   "id": "05126aee",
   "metadata": {},
   "outputs": [],
   "source": [
    "building_coords = readClusterFile(clusterfile)"
   ]
  },
  {
   "cell_type": "code",
   "execution_count": 5,
   "id": "66dd5896",
   "metadata": {},
   "outputs": [],
   "source": [
    "#convert data to dataframe\n",
    "df = pd.DataFrame(building_coords,\n",
    "                  columns = ['longitude','latitude','elevation'])"
   ]
  },
  {
   "cell_type": "code",
   "execution_count": 6,
   "id": "303b1252",
   "metadata": {},
   "outputs": [
    {
     "data": {
      "text/plain": [
       "longitude    0.0\n",
       "latitude     0.0\n",
       "elevation    0.0\n",
       "dtype: float64"
      ]
     },
     "execution_count": 6,
     "metadata": {},
     "output_type": "execute_result"
    }
   ],
   "source": [
    "#check # of null\n",
    "df.isnull().sum(axis=0).sort_values(ascending=False)/float(len(building_coords))"
   ]
  },
  {
   "cell_type": "code",
   "execution_count": 7,
   "id": "5f3d77d2",
   "metadata": {},
   "outputs": [
    {
     "data": {
      "text/plain": [
       "array([46, 94, 60, ..., 92, 15, 64])"
      ]
     },
     "execution_count": 7,
     "metadata": {},
     "output_type": "execute_result"
    }
   ],
   "source": [
    "# cluster, n_clusters is from table 2 in paper draft, using ward-tree\n",
    "from sklearn.cluster import AgglomerativeClustering\n",
    "cluster = AgglomerativeClustering(n_clusters=100, affinity='euclidean', linkage='ward')\n",
    "cluster.fit_predict(building_coords[:,1:2])"
   ]
  },
  {
   "cell_type": "code",
   "execution_count": 8,
   "id": "430c2302",
   "metadata": {},
   "outputs": [],
   "source": [
    "# add cluster to dataframe\n",
    "df['cluster.labels_'] = cluster.labels_.tolist()"
   ]
  },
  {
   "cell_type": "code",
   "execution_count": 9,
   "id": "a199e948",
   "metadata": {},
   "outputs": [],
   "source": [
    "# select highest and lowest nodes in cluster\n",
    "tank = df.loc[df.groupby(['cluster.labels_'])['elevation'].idxmax()].reset_index(drop=True)\n",
    "trem = df.loc[df.groupby(['cluster.labels_'])['elevation'].idxmin()].reset_index(drop=True)"
   ]
  },
  {
   "cell_type": "code",
   "execution_count": 10,
   "id": "1e5249ae",
   "metadata": {},
   "outputs": [],
   "source": [
    "# creat MST\n",
    "\n",
    "graph = []\n",
    "mstree = []\n",
    "def createMSTnx(dataframe):\n",
    "    #only takes longitude and latitude from the cluster data, note we also have elevation and stuff there too\n",
    "    #coordinates = twoDcluster\n",
    "    for k in range(10):\n",
    "        cluster = dataframe[dataframe['cluster.labels_'] == k]\n",
    "        cluster = cluster[['longitude','latitude']]\n",
    "        latlon = cluster.to_numpy()\n",
    "        nrows, ncols = latlon.shape\n",
    "        #creates graph\n",
    "        graph.append(nx.Graph())\n",
    "        weights = []\n",
    "        #distance in km as weight between each point in the graph\n",
    "        for i in range(nrows):\n",
    "            graph[k].add_node(i,pos=(latlon[i,0],latlon[i,1]))\n",
    "            for j in range(i+1,nrows):\n",
    "                dist = haversinedist(latlon[i,1], latlon[i,0], latlon[j,1], latlon[j,0])\n",
    "                weights.append(dist)\n",
    "                graph[k].add_edge(i,j, weight = dist)\n",
    "        #creates MST\n",
    "        mstree.append(nx.minimum_spanning_tree(graph[k]))\n",
    "    return mstree, graph"
   ]
  },
  {
   "cell_type": "code",
   "execution_count": 11,
   "id": "dfbf9029",
   "metadata": {},
   "outputs": [
    {
     "data": {
      "text/plain": [
       "([<networkx.classes.graph.Graph at 0x7f912c872e80>,\n",
       "  <networkx.classes.graph.Graph at 0x7f912c85fee0>,\n",
       "  <networkx.classes.graph.Graph at 0x7f912c8722e0>,\n",
       "  <networkx.classes.graph.Graph at 0x7f912c8720a0>,\n",
       "  <networkx.classes.graph.Graph at 0x7f9119816f70>,\n",
       "  <networkx.classes.graph.Graph at 0x7f9119816490>,\n",
       "  <networkx.classes.graph.Graph at 0x7f9119816640>,\n",
       "  <networkx.classes.graph.Graph at 0x7f9119816e50>,\n",
       "  <networkx.classes.graph.Graph at 0x7f9119816af0>,\n",
       "  <networkx.classes.graph.Graph at 0x7f912c872310>],\n",
       " [<networkx.classes.graph.Graph at 0x7f912c872940>,\n",
       "  <networkx.classes.graph.Graph at 0x7f912c872eb0>,\n",
       "  <networkx.classes.graph.Graph at 0x7f912c85fe20>,\n",
       "  <networkx.classes.graph.Graph at 0x7f912c85feb0>,\n",
       "  <networkx.classes.graph.Graph at 0x7f912c85ff40>,\n",
       "  <networkx.classes.graph.Graph at 0x7f9118519580>,\n",
       "  <networkx.classes.graph.Graph at 0x7f912c845af0>,\n",
       "  <networkx.classes.graph.Graph at 0x7f912a057730>,\n",
       "  <networkx.classes.graph.Graph at 0x7f9119816bb0>,\n",
       "  <networkx.classes.graph.Graph at 0x7f91198166d0>])"
      ]
     },
     "execution_count": 11,
     "metadata": {},
     "output_type": "execute_result"
    }
   ],
   "source": [
    "createMSTnx(df)"
   ]
  },
  {
   "cell_type": "code",
   "execution_count": 12,
   "id": "07f840d6",
   "metadata": {},
   "outputs": [
    {
     "data": {
      "image/png": "[encoded data removed]",
      "text/plain": [
       "<Figure size 432x288 with 1 Axes>"
      ]
     },
     "metadata": {},
     "output_type": "display_data"
    }
   ],
   "source": [
    "# draw a simulation of mst graph\n",
    "\n",
    "nx.draw(mstree[9],with_labels = True)"
   ]
  },
  {
   "cell_type": "code",
   "execution_count": 13,
   "id": "2c5d802c",
   "metadata": {},
   "outputs": [
    {
     "name": "stdout",
     "output_type": "stream",
     "text": [
      "Set parameter Username\n",
      "Academic license - for non-commercial use only - expires 2022-09-18\n",
      "Set parameter TimeLimit to value 12000\n"
     ]
    }
   ],
   "source": [
    "m = gp.Model('pipe and pump distribution')\n",
    "m.Params.timeLimit = 12000"
   ]
  },
  {
   "cell_type": "code",
   "execution_count": 14,
   "id": "6a2fe16e",
   "metadata": {},
   "outputs": [],
   "source": [
    "# pipe parameters\n",
    "pipesize = [0.05, 0.06, 0.08, 0.1, 0.15, 0.2, 0.25, 0.3, 0.35, 0.4, 0.45, 0.5, 0.6] #m\n",
    "pipesize_str, pipecost = gp.multidict({'0.05': 8.7, '0.06': 9.5, '0.08': 11, \\\n",
    "                                                   '0.1': 12.6, '0.15': 43.5,'0.2': 141, '0.25': 151, '0.3': 161, '0.35':230, '0.4': 246, '0.45':262, \n",
    "                                                   '0.5':292, '0.6':315})"
   ]
  },
  {
   "cell_type": "code",
   "execution_count": 15,
   "id": "15edc2a5",
   "metadata": {},
   "outputs": [],
   "source": [
    "# find label of tank node in cluster\n",
    "tank_lon = str(tank[tank['cluster.labels_'] == 9][['longitude']].iat[0,0])\n",
    "tank_lat = str(tank[tank['cluster.labels_'] == 9][['latitude']].iat[0,0])\n",
    "for i in mstree[9].nodes():\n",
    "    if str(mstree[9].nodes[i]['pos'][0]) == tank_lon and str(mstree[9].nodes[i]['pos'][1]) == tank_lat:\n",
    "        tank_node = i"
   ]
  },
  {
   "cell_type": "code",
   "execution_count": 16,
   "id": "bc61d043",
   "metadata": {},
   "outputs": [],
   "source": [
    "#create flow direction dict\n",
    "links = list(mstree[9].edges)\n",
    "flow_dir = {}\n",
    "for i,j in links:\n",
    "    if len(nx.shortest_path(mstree[9],source=tank_node, target=i)) < len(nx.shortest_path(mstree[9],source=tank_node, target=j)):\n",
    "        # if node i is nearer to tank\n",
    "        flow_dir[i,j]=(i,j)\n",
    "    if len(nx.shortest_path(mstree[9],source=tank_node, target=i)) > len(nx.shortest_path(mstree[9],source=tank_node, target=j)):\n",
    "        # if node j is nearer to tank\n",
    "        flow_dir[i,j]=(j,i) "
   ]
  },
  {
   "cell_type": "code",
   "execution_count": 17,
   "id": "0bea496a",
   "metadata": {},
   "outputs": [],
   "source": [
    "innode = {}\n",
    "outnode = {}\n",
    "for i,j in links:\n",
    "    if len(nx.shortest_path(mstree[9],source=tank_node, target=i)) > len(nx.shortest_path(mstree[9],source=tank_node, target=j)):\n",
    "        # if node j is nearer to tank\n",
    "        innode.setdefault(i, [])\n",
    "        innode[i].append(j)\n",
    "        outnode.setdefault(j, [])\n",
    "        outnode[j].append(i)\n",
    "    else:\n",
    "        # if node i is nearer to tank\n",
    "        innode.setdefault(j, [])\n",
    "        innode[j].append(i)\n",
    "        outnode.setdefault(i, [])\n",
    "        outnode[i].append(j)\n",
    "for i in mstree[9].nodes():\n",
    "    innode.setdefault(i,[])\n",
    "    outnode.setdefault(i, [])"
   ]
  },
  {
   "cell_type": "code",
   "execution_count": 18,
   "id": "b5453e99",
   "metadata": {},
   "outputs": [],
   "source": [
    "# pipe flow\n",
    "pipe_flow = {}\n",
    "for i,j in links:\n",
    "    start = flow_dir[i,j][0]\n",
    "    end = flow_dir[i,j][1]\n",
    "    pipe_flow[i,j] = 0.9464*3600*24*(len(outnode[end])+1) #250gpd to m3/s"
   ]
  },
  {
   "cell_type": "code",
   "execution_count": 19,
   "id": "c45d0aac",
   "metadata": {},
   "outputs": [],
   "source": [
    "# Edge list\n",
    "edge_list = {}\n",
    "for i,j in links:\n",
    "        edge_list[i,j] =[pipe_flow[i,j],mstree[9][i][j][\"weight\"]]"
   ]
  },
  {
   "cell_type": "code",
   "execution_count": 20,
   "id": "5761b5b8",
   "metadata": {},
   "outputs": [
    {
     "data": {
      "text/plain": [
       "{(0, 1): [81768.95999999999, 64.2426819389007],\n",
       " (1, 2): [81768.95999999999, 51.495293154562916],\n",
       " (1, 3): [245306.87999999998, 139.08777358090938],\n",
       " (3, 4): [163537.91999999998, 1408.2637063477366],\n",
       " (4, 5): [81768.95999999999, 30.897175888775504]}"
      ]
     },
     "execution_count": 20,
     "metadata": {},
     "output_type": "execute_result"
    }
   ],
   "source": [
    "edge_list"
   ]
  },
  {
   "cell_type": "code",
   "execution_count": 21,
   "id": "92617893",
   "metadata": {},
   "outputs": [],
   "source": [
    "poss_loss = {}\n",
    "for i, j in links:\n",
    "    poss_loss[i,j]= 10700*(edge_list[i,j][0]/140)**1.852*(1/0.05**4.8704)*mstree[9][i][j][\"weight\"]\n",
    "\n",
    "Hmax = max(poss_loss.values())\n",
    "Hmax = 1e+17"
   ]
  },
  {
   "cell_type": "code",
   "execution_count": 22,
   "id": "1b45d7cf",
   "metadata": {},
   "outputs": [],
   "source": [
    "# binary variable indicating if at link ij pipe of diameter k is implemented\n",
    "d = m.addVars(mstree[9].edges(), pipesize, vtype = GRB.BINARY, name = \"DIAMETER\")\n",
    "#continuous variable representing the head pressure at node i\n",
    "HL = m.addVars(mstree[9].edges(),lb = 0, vtype = GRB.CONTINUOUS, name = \"hydro loss\")\n",
    "# head pressure loss for edge n\n",
    "J = m.addVars(mstree[9].edges(),lb = 0, vtype = GRB.CONTINUOUS, name = \"hydro gradient\")"
   ]
  },
  {
   "cell_type": "code",
   "execution_count": 23,
   "id": "44e3a33c",
   "metadata": {},
   "outputs": [],
   "source": [
    "# pipe cost \n",
    "obj1 = gp.quicksum(mstree[9][i][j][\"weight\"] * gp.quicksum(pipecost[str(k)] * d[i, j, k] \n",
    "                                                           for k in pipesize) for i,j in mstree[9].edges())\n",
    "obj = obj1"
   ]
  },
  {
   "cell_type": "code",
   "execution_count": 24,
   "id": "b59786e5",
   "metadata": {},
   "outputs": [],
   "source": [
    "for i,j in links:\n",
    "#Hazen Williams equation, A = 10700, C=140, P472\n",
    "    m.addConstr(J[i,j] == \n",
    "                10700*(edge_list[0,1][0]/140)**1.852*gp.quicksum(d[i,j,k]/(k**4.8704) for k in pipesize)\n",
    "               , \"Hydro loss\")\n",
    "    m.addConstr(HL[i,j] == J[i,j]*mstree[9][i][j][\"weight\"])\n",
    "    m.addConstr(HL[i,j] >= 0)\n",
    "    m.addConstr(HL[i,j] <= Hmax)\n",
    "#only one pipe per edge\n",
    "    m.addConstr((d.sum(i, j, '*') == 1.0), \"single size chosen\")"
   ]
  },
  {
   "cell_type": "code",
   "execution_count": 25,
   "id": "c705008f",
   "metadata": {},
   "outputs": [
    {
     "name": "stdout",
     "output_type": "stream",
     "text": [
      "Gurobi Optimizer version 9.5.0 build v9.5.0rc5 (mac64[rosetta2])\n",
      "Thread count: 8 physical cores, 8 logical processors, using up to 8 threads\n",
      "Optimize a model with 25 rows, 75 columns and 155 nonzeros\n",
      "Model fingerprint: 0x0b8ea398\n",
      "Variable types: 10 continuous, 65 integer (65 binary)\n",
      "Coefficient statistics:\n",
      "  Matrix range     [1e+00, 3e+15]\n",
      "  Objective range  [3e+02, 4e+05]\n",
      "  Bounds range     [1e+00, 1e+00]\n",
      "  RHS range        [1e+00, 1e+17]\n",
      "Warning: Model contains large matrix coefficient range\n",
      "Warning: Model contains large rhs\n",
      "         Consider reformulating model or setting NumericFocus parameter\n",
      "         to avoid numerical issues.\n",
      "Presolve removed 23 rows and 61 columns\n",
      "Presolve time: 0.00s\n",
      "Presolved: 2 rows, 14 columns, 27 nonzeros\n",
      "Variable types: 1 continuous, 13 integer (13 binary)\n",
      "Found heuristic solution: objective 64157.752929\n",
      "\n",
      "Explored 0 nodes (0 simplex iterations) in 0.01 seconds (0.00 work units)\n",
      "Thread count was 8 (of 8 available processors)\n",
      "\n",
      "Solution count 1: 64157.8 \n",
      "\n",
      "Optimal solution found (tolerance 1.00e-04)\n",
      "Best objective 6.415775292914e+04, best bound 6.415775292914e+04, gap 0.0000%\n"
     ]
    }
   ],
   "source": [
    "m.setObjective(obj, GRB.MINIMIZE)\n",
    "m.optimize()"
   ]
  },
  {
   "cell_type": "code",
   "execution_count": 26,
   "id": "e1133972",
   "metadata": {},
   "outputs": [
    {
     "name": "stdout",
     "output_type": "stream",
     "text": [
      "DIAMETER[0,1,0.05] 0\n",
      "DIAMETER[0,1,0.06] 1\n",
      "DIAMETER[0,1,0.08] -0\n",
      "DIAMETER[0,1,0.1] -0\n",
      "DIAMETER[0,1,0.15] -0\n",
      "DIAMETER[0,1,0.2] -0\n",
      "DIAMETER[0,1,0.25] -0\n",
      "DIAMETER[0,1,0.3] -0\n",
      "DIAMETER[0,1,0.35] -0\n",
      "DIAMETER[0,1,0.4] -0\n",
      "DIAMETER[0,1,0.45] -0\n",
      "DIAMETER[0,1,0.5] -0\n",
      "DIAMETER[0,1,0.6] -0\n",
      "DIAMETER[1,2,0.05] 0\n",
      "DIAMETER[1,2,0.06] 1\n",
      "DIAMETER[1,2,0.08] -0\n",
      "DIAMETER[1,2,0.1] -0\n",
      "DIAMETER[1,2,0.15] -0\n",
      "DIAMETER[1,2,0.2] -0\n",
      "DIAMETER[1,2,0.25] -0\n",
      "DIAMETER[1,2,0.3] -0\n",
      "DIAMETER[1,2,0.35] -0\n",
      "DIAMETER[1,2,0.4] -0\n",
      "DIAMETER[1,2,0.45] -0\n",
      "DIAMETER[1,2,0.5] -0\n",
      "DIAMETER[1,2,0.6] -0\n",
      "DIAMETER[1,3,0.05] 0\n",
      "DIAMETER[1,3,0.06] 0\n",
      "DIAMETER[1,3,0.08] 1\n",
      "DIAMETER[1,3,0.1] -0\n",
      "DIAMETER[1,3,0.15] -0\n",
      "DIAMETER[1,3,0.2] -0\n",
      "DIAMETER[1,3,0.25] -0\n",
      "DIAMETER[1,3,0.3] -0\n",
      "DIAMETER[1,3,0.35] -0\n",
      "DIAMETER[1,3,0.4] -0\n",
      "DIAMETER[1,3,0.45] -0\n",
      "DIAMETER[1,3,0.5] -0\n",
      "DIAMETER[1,3,0.6] -0\n",
      "DIAMETER[3,4,0.05] 0\n",
      "DIAMETER[3,4,0.06] 0\n",
      "DIAMETER[3,4,0.08] 0\n",
      "DIAMETER[3,4,0.1] 0\n",
      "DIAMETER[3,4,0.15] 1\n",
      "DIAMETER[3,4,0.2] -0\n",
      "DIAMETER[3,4,0.25] -0\n",
      "DIAMETER[3,4,0.3] -0\n",
      "DIAMETER[3,4,0.35] -0\n",
      "DIAMETER[3,4,0.4] -0\n",
      "DIAMETER[3,4,0.45] -0\n",
      "DIAMETER[3,4,0.5] -0\n",
      "DIAMETER[3,4,0.6] -0\n",
      "DIAMETER[4,5,0.05] 1\n",
      "DIAMETER[4,5,0.06] -0\n",
      "DIAMETER[4,5,0.08] -0\n",
      "DIAMETER[4,5,0.1] -0\n",
      "DIAMETER[4,5,0.15] -0\n",
      "DIAMETER[4,5,0.2] -0\n",
      "DIAMETER[4,5,0.25] -0\n",
      "DIAMETER[4,5,0.3] -0\n",
      "DIAMETER[4,5,0.35] -0\n",
      "DIAMETER[4,5,0.4] -0\n",
      "DIAMETER[4,5,0.45] -0\n",
      "DIAMETER[4,5,0.5] -0\n",
      "DIAMETER[4,5,0.6] -0\n",
      "hydro loss[0,1] 8.15801e+16\n",
      "hydro loss[1,2] 6.53925e+16\n",
      "hydro loss[1,3] 4.35059e+16\n",
      "hydro loss[3,4] 2.06214e+16\n",
      "hydro loss[4,5] 9.53507e+16\n",
      "hydro gradient[0,1] 1.26987e+15\n",
      "hydro gradient[1,2] 1.26987e+15\n",
      "hydro gradient[1,3] 3.12794e+14\n",
      "hydro gradient[3,4] 1.46431e+13\n",
      "hydro gradient[4,5] 3.08606e+15\n",
      "Obj: 64157.8\n"
     ]
    }
   ],
   "source": [
    "status = m.status\n",
    "if status == GRB.Status.OPTIMAL:\n",
    "    for v in m.getVars():\n",
    "        print('%s %g' % (v.varName, v.x))\n",
    "    print('Obj: %g' % m.objVal)\n",
    "       \n",
    "elif status == GRB.Status.INFEASIBLE:\n",
    "    print('Optimization was stopped with status %d' % status)\n",
    "    # do IIS\n",
    "    m.computeIIS()\n",
    "    m.write(\"m.mps\")\n",
    "    gp.read(\"m.mps\")\n",
    "    for c in m.getConstrs():\n",
    "        if c.IISConstr:\n",
    "            print('%s' % c.constrName)"
   ]
  },
  {
   "cell_type": "code",
   "execution_count": null,
   "id": "eaa8e03a",
   "metadata": {},
   "outputs": [],
   "source": []
  }
 ],
 "metadata": {
  "kernelspec": {
   "display_name": "py3.8",
   "language": "python",
   "name": "py3.8"
  },
  "language_info": {
   "codemirror_mode": {
    "name": "ipython",
    "version": 3
   },
   "file_extension": ".py",
   "mimetype": "text/x-python",
   "name": "python",
   "nbconvert_exporter": "python",
   "pygments_lexer": "ipython3",
   "version": "3.8.12"
  }
 },
 "nbformat": 4,
 "nbformat_minor": 5
}
